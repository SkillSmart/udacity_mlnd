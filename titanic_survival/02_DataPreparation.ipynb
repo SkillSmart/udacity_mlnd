{
 "cells": [
  {
   "cell_type": "markdown",
   "metadata": {},
   "source": [
    "# 2. Data Preparation / Feature Generation\n",
    "\n",
    "Now let's prepare the Dataset for further modeling by handling missing values in the Data, fill where possible and then create the combined Features we identified in the last step. \n",
    "\n",
    "**What to do**:\n",
    "- Handle missing Values \n",
    "- Generate Features to pick up relevant correlation patterns"
   ]
  },
  {
   "cell_type": "code",
   "execution_count": 455,
   "metadata": {
    "collapsed": true
   },
   "outputs": [],
   "source": [
    "%matplotlib inline\n",
    "import matplotlib.pyplot as plt\n",
    "import pandas as pd\n",
    "import numpy as np\n",
    "import seaborn as sns\n",
    "from scipy import stats"
   ]
  },
  {
   "cell_type": "code",
   "execution_count": 456,
   "metadata": {
    "collapsed": true
   },
   "outputs": [],
   "source": [
    "def stacked_plot(first, second):\n",
    "    tab = pd.crosstab(train[first], train[second])\n",
    "    print(tab)\n",
    "    tab.div(tab.sum(1).astype('float'), axis=0).plot(kind='bar', stacked=True)"
   ]
  },
  {
   "cell_type": "code",
   "execution_count": 457,
   "metadata": {
    "collapsed": true
   },
   "outputs": [],
   "source": [
    "# Let's load the Data again\n",
    "train = pd.read_csv('data/train.csv', index_col=0)\n",
    "test = pd.read_csv('data/test.csv', index_col=0)\n",
    "combined = pd.read_csv('data/combined.csv', index_col=0)\n",
    "surv = pd.read_csv('data/survived.csv', index_col=0)\n",
    "nosurv = pd.read_csv('data/nosurvived.csv', index_col=0)"
   ]
  },
  {
   "cell_type": "code",
   "execution_count": 458,
   "metadata": {
    "collapsed": false
   },
   "outputs": [
    {
     "data": {
      "text/html": [
       "<div>\n",
       "<style>\n",
       "    .dataframe thead tr:only-child th {\n",
       "        text-align: right;\n",
       "    }\n",
       "\n",
       "    .dataframe thead th {\n",
       "        text-align: left;\n",
       "    }\n",
       "\n",
       "    .dataframe tbody tr th {\n",
       "        vertical-align: top;\n",
       "    }\n",
       "</style>\n",
       "<table border=\"1\" class=\"dataframe\">\n",
       "  <thead>\n",
       "    <tr style=\"text-align: right;\">\n",
       "      <th></th>\n",
       "      <th>Survived</th>\n",
       "      <th>Pclass</th>\n",
       "      <th>Name</th>\n",
       "      <th>Sex</th>\n",
       "      <th>Age</th>\n",
       "      <th>SibSp</th>\n",
       "      <th>Parch</th>\n",
       "      <th>Ticket</th>\n",
       "      <th>Fare</th>\n",
       "      <th>Cabin</th>\n",
       "      <th>Embarked</th>\n",
       "    </tr>\n",
       "    <tr>\n",
       "      <th>PassengerId</th>\n",
       "      <th></th>\n",
       "      <th></th>\n",
       "      <th></th>\n",
       "      <th></th>\n",
       "      <th></th>\n",
       "      <th></th>\n",
       "      <th></th>\n",
       "      <th></th>\n",
       "      <th></th>\n",
       "      <th></th>\n",
       "      <th></th>\n",
       "    </tr>\n",
       "  </thead>\n",
       "  <tbody>\n",
       "    <tr>\n",
       "      <th>2</th>\n",
       "      <td>1</td>\n",
       "      <td>1</td>\n",
       "      <td>Cumings, Mrs. John Bradley (Florence Briggs Th...</td>\n",
       "      <td>female</td>\n",
       "      <td>38.0</td>\n",
       "      <td>1</td>\n",
       "      <td>0</td>\n",
       "      <td>PC 17599</td>\n",
       "      <td>71.2833</td>\n",
       "      <td>C85</td>\n",
       "      <td>C</td>\n",
       "    </tr>\n",
       "    <tr>\n",
       "      <th>3</th>\n",
       "      <td>1</td>\n",
       "      <td>3</td>\n",
       "      <td>Heikkinen, Miss. Laina</td>\n",
       "      <td>female</td>\n",
       "      <td>26.0</td>\n",
       "      <td>0</td>\n",
       "      <td>0</td>\n",
       "      <td>STON/O2. 3101282</td>\n",
       "      <td>7.9250</td>\n",
       "      <td>NaN</td>\n",
       "      <td>S</td>\n",
       "    </tr>\n",
       "    <tr>\n",
       "      <th>4</th>\n",
       "      <td>1</td>\n",
       "      <td>1</td>\n",
       "      <td>Futrelle, Mrs. Jacques Heath (Lily May Peel)</td>\n",
       "      <td>female</td>\n",
       "      <td>35.0</td>\n",
       "      <td>1</td>\n",
       "      <td>0</td>\n",
       "      <td>113803</td>\n",
       "      <td>53.1000</td>\n",
       "      <td>C123</td>\n",
       "      <td>S</td>\n",
       "    </tr>\n",
       "    <tr>\n",
       "      <th>9</th>\n",
       "      <td>1</td>\n",
       "      <td>3</td>\n",
       "      <td>Johnson, Mrs. Oscar W (Elisabeth Vilhelmina Berg)</td>\n",
       "      <td>female</td>\n",
       "      <td>27.0</td>\n",
       "      <td>0</td>\n",
       "      <td>2</td>\n",
       "      <td>347742</td>\n",
       "      <td>11.1333</td>\n",
       "      <td>NaN</td>\n",
       "      <td>S</td>\n",
       "    </tr>\n",
       "    <tr>\n",
       "      <th>10</th>\n",
       "      <td>1</td>\n",
       "      <td>2</td>\n",
       "      <td>Nasser, Mrs. Nicholas (Adele Achem)</td>\n",
       "      <td>female</td>\n",
       "      <td>14.0</td>\n",
       "      <td>1</td>\n",
       "      <td>0</td>\n",
       "      <td>237736</td>\n",
       "      <td>30.0708</td>\n",
       "      <td>NaN</td>\n",
       "      <td>C</td>\n",
       "    </tr>\n",
       "  </tbody>\n",
       "</table>\n",
       "</div>"
      ],
      "text/plain": [
       "             Survived  Pclass  \\\n",
       "PassengerId                     \n",
       "2                   1       1   \n",
       "3                   1       3   \n",
       "4                   1       1   \n",
       "9                   1       3   \n",
       "10                  1       2   \n",
       "\n",
       "                                                          Name     Sex   Age  \\\n",
       "PassengerId                                                                    \n",
       "2            Cumings, Mrs. John Bradley (Florence Briggs Th...  female  38.0   \n",
       "3                                       Heikkinen, Miss. Laina  female  26.0   \n",
       "4                 Futrelle, Mrs. Jacques Heath (Lily May Peel)  female  35.0   \n",
       "9            Johnson, Mrs. Oscar W (Elisabeth Vilhelmina Berg)  female  27.0   \n",
       "10                         Nasser, Mrs. Nicholas (Adele Achem)  female  14.0   \n",
       "\n",
       "             SibSp  Parch            Ticket     Fare Cabin Embarked  \n",
       "PassengerId                                                          \n",
       "2                1      0          PC 17599  71.2833   C85        C  \n",
       "3                0      0  STON/O2. 3101282   7.9250   NaN        S  \n",
       "4                1      0            113803  53.1000  C123        S  \n",
       "9                0      2            347742  11.1333   NaN        S  \n",
       "10               1      0            237736  30.0708   NaN        C  "
      ]
     },
     "execution_count": 458,
     "metadata": {},
     "output_type": "execute_result"
    }
   ],
   "source": [
    "surv.head()"
   ]
  },
  {
   "cell_type": "markdown",
   "metadata": {},
   "source": [
    "## 1. Filling in missing values\n",
    "\n",
    "Let's first look at the spread of missing values"
   ]
  },
  {
   "cell_type": "code",
   "execution_count": 459,
   "metadata": {
    "collapsed": false
   },
   "outputs": [
    {
     "name": "stdout",
     "output_type": "stream",
     "text": [
      "Missing Values in Training Data\n",
      "Survived      0\n",
      "Pclass        0\n",
      "Name          0\n",
      "Sex           0\n",
      "Age         177\n",
      "SibSp         0\n",
      "Parch         0\n",
      "Ticket        0\n",
      "Fare          0\n",
      "Cabin       687\n",
      "Embarked      2\n",
      "dtype: int64\n",
      "\n",
      "Missing Values in Test Data\n"
     ]
    },
    {
     "data": {
      "text/plain": [
       "Pclass        0\n",
       "Name          0\n",
       "Sex           0\n",
       "Age          86\n",
       "SibSp         0\n",
       "Parch         0\n",
       "Ticket        0\n",
       "Fare          1\n",
       "Cabin       327\n",
       "Embarked      0\n",
       "dtype: int64"
      ]
     },
     "execution_count": 459,
     "metadata": {},
     "output_type": "execute_result"
    }
   ],
   "source": [
    "print('Missing Values in Training Data')\n",
    "print(train.isnull().sum())\n",
    "\n",
    "print('\\nMissing Values in Test Data')\n",
    "test.isnull().sum()"
   ]
  },
  {
   "cell_type": "markdown",
   "metadata": {},
   "source": [
    "We have already seen that Age groups have a significant impact on survival, so we will have to treat them during Feature Engineering and try to recreate as much as possible. "
   ]
  },
  {
   "cell_type": "code",
   "execution_count": 460,
   "metadata": {
    "collapsed": false
   },
   "outputs": [
    {
     "name": "stdout",
     "output_type": "stream",
     "text": [
      "77.104377 Percent of all Cabin Values are missing\n"
     ]
    }
   ],
   "source": [
    "print('%f Percent of all Cabin Values are missing'%(train.Cabin.isnull().sum()/len(train.Cabin)*100))"
   ]
  },
  {
   "cell_type": "markdown",
   "metadata": {},
   "source": [
    "So we start by filling in the 2 embarked Values"
   ]
  },
  {
   "cell_type": "code",
   "execution_count": 461,
   "metadata": {
    "collapsed": false
   },
   "outputs": [
    {
     "data": {
      "text/html": [
       "<div>\n",
       "<style>\n",
       "    .dataframe thead tr:only-child th {\n",
       "        text-align: right;\n",
       "    }\n",
       "\n",
       "    .dataframe thead th {\n",
       "        text-align: left;\n",
       "    }\n",
       "\n",
       "    .dataframe tbody tr th {\n",
       "        vertical-align: top;\n",
       "    }\n",
       "</style>\n",
       "<table border=\"1\" class=\"dataframe\">\n",
       "  <thead>\n",
       "    <tr style=\"text-align: right;\">\n",
       "      <th></th>\n",
       "      <th>Survived</th>\n",
       "      <th>Pclass</th>\n",
       "      <th>Name</th>\n",
       "      <th>Sex</th>\n",
       "      <th>Age</th>\n",
       "      <th>SibSp</th>\n",
       "      <th>Parch</th>\n",
       "      <th>Ticket</th>\n",
       "      <th>Fare</th>\n",
       "      <th>Cabin</th>\n",
       "      <th>Embarked</th>\n",
       "    </tr>\n",
       "    <tr>\n",
       "      <th>PassengerId</th>\n",
       "      <th></th>\n",
       "      <th></th>\n",
       "      <th></th>\n",
       "      <th></th>\n",
       "      <th></th>\n",
       "      <th></th>\n",
       "      <th></th>\n",
       "      <th></th>\n",
       "      <th></th>\n",
       "      <th></th>\n",
       "      <th></th>\n",
       "    </tr>\n",
       "  </thead>\n",
       "  <tbody>\n",
       "    <tr>\n",
       "      <th>62</th>\n",
       "      <td>1</td>\n",
       "      <td>1</td>\n",
       "      <td>Icard, Miss. Amelie</td>\n",
       "      <td>female</td>\n",
       "      <td>38.0</td>\n",
       "      <td>0</td>\n",
       "      <td>0</td>\n",
       "      <td>113572</td>\n",
       "      <td>80.0</td>\n",
       "      <td>B28</td>\n",
       "      <td>NaN</td>\n",
       "    </tr>\n",
       "    <tr>\n",
       "      <th>830</th>\n",
       "      <td>1</td>\n",
       "      <td>1</td>\n",
       "      <td>Stone, Mrs. George Nelson (Martha Evelyn)</td>\n",
       "      <td>female</td>\n",
       "      <td>62.0</td>\n",
       "      <td>0</td>\n",
       "      <td>0</td>\n",
       "      <td>113572</td>\n",
       "      <td>80.0</td>\n",
       "      <td>B28</td>\n",
       "      <td>NaN</td>\n",
       "    </tr>\n",
       "  </tbody>\n",
       "</table>\n",
       "</div>"
      ],
      "text/plain": [
       "             Survived  Pclass                                       Name  \\\n",
       "PassengerId                                                                \n",
       "62                  1       1                        Icard, Miss. Amelie   \n",
       "830                 1       1  Stone, Mrs. George Nelson (Martha Evelyn)   \n",
       "\n",
       "                Sex   Age  SibSp  Parch  Ticket  Fare Cabin Embarked  \n",
       "PassengerId                                                           \n",
       "62           female  38.0      0      0  113572  80.0   B28      NaN  \n",
       "830          female  62.0      0      0  113572  80.0   B28      NaN  "
      ]
     },
     "execution_count": 461,
     "metadata": {},
     "output_type": "execute_result"
    }
   ],
   "source": [
    "train[train['Embarked'].isnull()]"
   ]
  },
  {
   "cell_type": "markdown",
   "metadata": {},
   "source": [
    "Two women traveling 1st Class, survived and where 38 and 62yrs old. This points to 'C'"
   ]
  },
  {
   "cell_type": "code",
   "execution_count": 462,
   "metadata": {
    "collapsed": false
   },
   "outputs": [
    {
     "name": "stderr",
     "output_type": "stream",
     "text": [
      "C:\\Users\\frank\\Anaconda3\\envs\\tensorflow-gpu\\lib\\site-packages\\pandas\\core\\indexing.py:179: SettingWithCopyWarning: \n",
      "A value is trying to be set on a copy of a slice from a DataFrame\n",
      "\n",
      "See the caveats in the documentation: http://pandas.pydata.org/pandas-docs/stable/indexing.html#indexing-view-versus-copy\n",
      "  self._setitem_with_indexer(indexer, value)\n"
     ]
    }
   ],
   "source": [
    "train['Embarked'].iloc[61] = 'C'\n",
    "train['Embarked'].iloc[830] = 'C'"
   ]
  },
  {
   "cell_type": "code",
   "execution_count": 463,
   "metadata": {
    "collapsed": false
   },
   "outputs": [
    {
     "data": {
      "text/html": [
       "<div>\n",
       "<style>\n",
       "    .dataframe thead tr:only-child th {\n",
       "        text-align: right;\n",
       "    }\n",
       "\n",
       "    .dataframe thead th {\n",
       "        text-align: left;\n",
       "    }\n",
       "\n",
       "    .dataframe tbody tr th {\n",
       "        vertical-align: top;\n",
       "    }\n",
       "</style>\n",
       "<table border=\"1\" class=\"dataframe\">\n",
       "  <thead>\n",
       "    <tr style=\"text-align: right;\">\n",
       "      <th></th>\n",
       "      <th>Pclass</th>\n",
       "      <th>Name</th>\n",
       "      <th>Sex</th>\n",
       "      <th>Age</th>\n",
       "      <th>SibSp</th>\n",
       "      <th>Parch</th>\n",
       "      <th>Ticket</th>\n",
       "      <th>Fare</th>\n",
       "      <th>Cabin</th>\n",
       "      <th>Embarked</th>\n",
       "    </tr>\n",
       "    <tr>\n",
       "      <th>PassengerId</th>\n",
       "      <th></th>\n",
       "      <th></th>\n",
       "      <th></th>\n",
       "      <th></th>\n",
       "      <th></th>\n",
       "      <th></th>\n",
       "      <th></th>\n",
       "      <th></th>\n",
       "      <th></th>\n",
       "      <th></th>\n",
       "    </tr>\n",
       "  </thead>\n",
       "  <tbody>\n",
       "    <tr>\n",
       "      <th>1044</th>\n",
       "      <td>3</td>\n",
       "      <td>Storey, Mr. Thomas</td>\n",
       "      <td>male</td>\n",
       "      <td>60.5</td>\n",
       "      <td>0</td>\n",
       "      <td>0</td>\n",
       "      <td>3701</td>\n",
       "      <td>NaN</td>\n",
       "      <td>NaN</td>\n",
       "      <td>S</td>\n",
       "    </tr>\n",
       "  </tbody>\n",
       "</table>\n",
       "</div>"
      ],
      "text/plain": [
       "             Pclass                Name   Sex   Age  SibSp  Parch Ticket  \\\n",
       "PassengerId                                                                \n",
       "1044              3  Storey, Mr. Thomas  male  60.5      0      0   3701   \n",
       "\n",
       "             Fare Cabin Embarked  \n",
       "PassengerId                       \n",
       "1044          NaN   NaN        S  "
      ]
     },
     "execution_count": 463,
     "metadata": {},
     "output_type": "execute_result"
    }
   ],
   "source": [
    "# Imputing the missing Fare\n",
    "test[test['Fare'].isnull()]"
   ]
  },
  {
   "cell_type": "markdown",
   "metadata": {},
   "source": [
    "He embarked in 3rd Class in S. Let's look at the price distribution on this subset"
   ]
  },
  {
   "cell_type": "code",
   "execution_count": 464,
   "metadata": {
    "collapsed": false
   },
   "outputs": [
    {
     "data": {
      "text/plain": [
       "<matplotlib.axes._subplots.AxesSubplot at 0x26bf379a6a0>"
      ]
     },
     "execution_count": 464,
     "metadata": {},
     "output_type": "execute_result"
    },
    {
     "data": {
      "image/png": "[encoded data removed]",
      "text/plain": [
       "<matplotlib.figure.Figure at 0x26bf3a98470>"
      ]
     },
     "metadata": {},
     "output_type": "display_data"
    }
   ],
   "source": [
    "sdata = pd.read_csv('data/train_subdata_departure_S.csv')\n",
    "sdata['Fare'].hist()"
   ]
  },
  {
   "cell_type": "markdown",
   "metadata": {},
   "source": [
    "It is highly negatively skewed, let's use the median value"
   ]
  },
  {
   "cell_type": "code",
   "execution_count": 465,
   "metadata": {
    "collapsed": false
   },
   "outputs": [
    {
     "name": "stderr",
     "output_type": "stream",
     "text": [
      "C:\\Users\\frank\\Anaconda3\\envs\\tensorflow-gpu\\lib\\site-packages\\ipykernel_launcher.py:1: SettingWithCopyWarning: \n",
      "A value is trying to be set on a copy of a slice from a DataFrame\n",
      "\n",
      "See the caveats in the documentation: http://pandas.pydata.org/pandas-docs/stable/indexing.html#indexing-view-versus-copy\n",
      "  \"\"\"Entry point for launching an IPython kernel.\n"
     ]
    }
   ],
   "source": [
    "test['Fare'][test['Fare'].isnull()] = sdata['Fare'].median()"
   ]
  },
  {
   "cell_type": "markdown",
   "metadata": {},
   "source": [
    "### 2. Engineering the Features\n",
    "\n",
    "Let's know implement the Information we have found so far into a set of new features that should hopefully improve our performance on the Dataset. "
   ]
  },
  {
   "cell_type": "code",
   "execution_count": 466,
   "metadata": {
    "collapsed": true
   },
   "outputs": [],
   "source": [
    "# Create the Features on the Training Data\n",
    "train['Child'] = (train['Age']<10).astype('int')\n",
    "train['Young'] = ((train['Age'] >= 18) & (train['Age']<=40)).astype('int')\n",
    "train['Young_m'] = ((train['Age']>= 18) & (train['Age'] <= 40) & (train['Sex']=='male')).astype('int')\n",
    "train['Young_f'] = ((train['Age']>=18) & (train['Age']<= 40) & (train['Sex']=='female')).astype('int')\n",
    "train['Cabin_known'] = (train.Cabin.isnull()==False).astype('int')\n",
    "train['Age_known'] = (train['Age'].isnull() == False).astype('int')\n",
    "train['Family'] = (train['SibSp'] + train['Parch']).astype('int')\n",
    "train['Alone'] = ((train['SibSp'] + train['Parch'])==0).astype('int')\n",
    "train['LargeFamily'] = ((train['SibSp']>2) | (train['Parch']>3)).astype('int')\n",
    "train['Deck'] = train.Cabin.str[0]\n",
    "train['Deck'] = train['Deck'].fillna(value='U')\n",
    "train['Ttype'] = train['Ticket'].str[0]\n",
    "train['Title'] = train['Name'].str.split(', ', expand=True)[1].str.split('.', expand=True)[0]"
   ]
  },
  {
   "cell_type": "code",
   "execution_count": 467,
   "metadata": {
    "collapsed": true
   },
   "outputs": [],
   "source": [
    "# Create the Features on the Test Data\n",
    "test['Child'] = (test['Age']<10).astype('int')\n",
    "test['Young'] = ((test['Age'] >= 18) & (test['Age']<=40)).astype('int')\n",
    "test['Young_m'] = ((test['Age']>= 18) & (test['Age'] <= 40) & (test['Sex']=='male')).astype('int')\n",
    "test['Young_f'] = ((test['Age']>=18) & (test['Age']<= 40) & (test['Sex']=='female')).astype('int')\n",
    "test['Cabin_known'] =( test['Cabin'] == False).astype('int')\n",
    "test['Age_known'] = (test['Age'].isnull() == False).astype('int')\n",
    "test['Family'] = (test['SibSp'] + test['Parch']).astype('int')\n",
    "test['Alone'] = ((test['SibSp'] + test['Parch'])==0).astype('int')\n",
    "test['LargeFamily'] = ((test['SibSp']>2) | (test['Parch']>3)).astype('int')\n",
    "test['Deck'] = test.Cabin.str[0]\n",
    "test['Deck'] = test['Deck'].fillna(value='U')\n",
    "test['Ttype'] = test['Ticket'].str[0]\n",
    "test['Title'] = test['Name'].str.split(', ', expand=True)[1].str.split('.', expand=True)[0]"
   ]
  },
  {
   "cell_type": "code",
   "execution_count": 468,
   "metadata": {
    "collapsed": false
   },
   "outputs": [
    {
     "data": {
      "text/plain": [
       "array(['U', 'C', 'E', 'G', 'D', 'A', 'B', 'F', 'T'], dtype=object)"
      ]
     },
     "execution_count": 468,
     "metadata": {},
     "output_type": "execute_result"
    }
   ],
   "source": [
    "train.Deck.unique()"
   ]
  },
  {
   "cell_type": "code",
   "execution_count": 469,
   "metadata": {
    "collapsed": false
   },
   "outputs": [
    {
     "data": {
      "text/plain": [
       "array(['U', 'B', 'E', 'A', 'C', 'D', 'F', 'G'], dtype=object)"
      ]
     },
     "execution_count": 469,
     "metadata": {},
     "output_type": "execute_result"
    }
   ],
   "source": [
    "test.Deck.unique()"
   ]
  },
  {
   "cell_type": "markdown",
   "metadata": {},
   "source": [
    "#### Testing the new Features for precision and significance\n"
   ]
  },
  {
   "cell_type": "markdown",
   "metadata": {},
   "source": [
    "#### Child"
   ]
  },
  {
   "cell_type": "code",
   "execution_count": 470,
   "metadata": {
    "collapsed": false
   },
   "outputs": [
    {
     "name": "stdout",
     "output_type": "stream",
     "text": [
      "Survived    0    1\n",
      "Child             \n",
      "0         525  304\n",
      "1          24   38\n"
     ]
    },
    {
     "data": {
      "image/png": "[encoded data removed]",
      "text/plain": [
       "<matplotlib.figure.Figure at 0x26bf54b7b38>"
      ]
     },
     "metadata": {},
     "output_type": "display_data"
    }
   ],
   "source": [
    "stacked_plot('Child', 'Survived')\n",
    "plt.xlabel('Child');\n",
    "plt.ylabel('Percentage');"
   ]
  },
  {
   "cell_type": "code",
   "execution_count": 471,
   "metadata": {
    "collapsed": false
   },
   "outputs": [
    {
     "name": "stdout",
     "output_type": "stream",
     "text": [
      "Pclass    1    2    3\n",
      "Child                \n",
      "0       213  167  449\n",
      "1         3   17   42\n"
     ]
    },
    {
     "data": {
      "text/plain": [
       "<matplotlib.axes._subplots.AxesSubplot at 0x26bf33a1198>"
      ]
     },
     "execution_count": 471,
     "metadata": {},
     "output_type": "execute_result"
    },
    {
     "data": {
      "image/png": "[encoded data removed]",
      "text/plain": [
       "<matplotlib.figure.Figure at 0x26bf35938d0>"
      ]
     },
     "metadata": {},
     "output_type": "display_data"
    },
    {
     "data": {
      "image/png": "[encoded data removed]",
      "text/plain": [
       "<matplotlib.figure.Figure at 0x26bf33a0be0>"
      ]
     },
     "metadata": {},
     "output_type": "display_data"
    }
   ],
   "source": [
    "tab = pd.crosstab(train['Child'], train['Pclass'])\n",
    "print(tab)\n",
    "tab.div(tab.sum(1).astype(float), axis=0).plot(kind='bar', stacked=True)\n",
    "tab = pd.crosstab(train['Child'], train['Sex'])\n",
    "tab.div(tab.sum(1).astype('float'), axis=0).plot(kind='bar', stacked=True)"
   ]
  },
  {
   "cell_type": "markdown",
   "metadata": {},
   "source": [
    "###  The 'Young' Feature\n",
    "\n",
    "Beeing between 18-40 overall has no influence on survival, because the effect swaps based on gender.\n",
    "That seems like a very interesting feature as it would most likely not be picked up automatically by an algorithm. \n"
   ]
  },
  {
   "cell_type": "code",
   "execution_count": 472,
   "metadata": {
    "collapsed": false
   },
   "outputs": [
    {
     "name": "stdout",
     "output_type": "stream",
     "text": [
      "Survived    0    1\n",
      "Young             \n",
      "0         272  168\n",
      "1         277  174\n"
     ]
    },
    {
     "data": {
      "text/plain": [
       "<matplotlib.axes._subplots.AxesSubplot at 0x26bf4b52128>"
      ]
     },
     "execution_count": 472,
     "metadata": {},
     "output_type": "execute_result"
    },
    {
     "data": {
      "image/png": "[encoded data removed]",
      "text/plain": [
       "<matplotlib.figure.Figure at 0x26bf6526c88>"
      ]
     },
     "metadata": {},
     "output_type": "display_data"
    }
   ],
   "source": [
    "young = pd.crosstab(train['Young'], train['Survived'])\n",
    "print(young)\n",
    "young.div(young.sum(1).astype('float'), axis=0).plot(kind='bar', stacked=True)"
   ]
  },
  {
   "cell_type": "code",
   "execution_count": 473,
   "metadata": {
    "collapsed": false
   },
   "outputs": [
    {
     "name": "stdout",
     "output_type": "stream",
     "text": [
      "Survived    0    1\n",
      "Young_m           \n",
      "0         308  290\n",
      "1         241   52\n",
      "Survived    0    1\n",
      "Young_f           \n",
      "0         513  220\n",
      "1          36  122\n"
     ]
    },
    {
     "data": {
      "text/plain": [
       "<matplotlib.axes._subplots.AxesSubplot at 0x26bf6617cc0>"
      ]
     },
     "execution_count": 473,
     "metadata": {},
     "output_type": "execute_result"
    },
    {
     "data": {
      "image/png": "[encoded data removed]",
      "text/plain": [
       "<matplotlib.figure.Figure at 0x26bf5536c88>"
      ]
     },
     "metadata": {},
     "output_type": "display_data"
    },
    {
     "data": {
      "image/png": "[encoded data removed]",
      "text/plain": [
       "<matplotlib.figure.Figure at 0x26bf50d47f0>"
      ]
     },
     "metadata": {},
     "output_type": "display_data"
    }
   ],
   "source": [
    "# Survival as young Male\n",
    "young = pd.crosstab(train['Young_m'], train['Survived'])\n",
    "print(young)\n",
    "young.div(young.sum(1).astype('float'), axis=0).plot(kind='bar', stacked=True)\n",
    "\n",
    "# Survival as young Female\n",
    "young = pd.crosstab(train['Young_f'], train['Survived'])\n",
    "print(young)\n",
    "young.div(young.sum(1).astype('float'), axis=0).plot(kind='bar', stacked=True)"
   ]
  },
  {
   "cell_type": "markdown",
   "metadata": {},
   "source": [
    "### Cabin\n",
    "\n",
    "- It proofed more likely to know the Cabin Number of an Survivor. \n",
    "- It is slighly more likely to know the Cabin Number of a Woman, but this again is well explained by their higher survival chance overall."
   ]
  },
  {
   "cell_type": "code",
   "execution_count": 474,
   "metadata": {
    "collapsed": false
   },
   "outputs": [
    {
     "name": "stdout",
     "output_type": "stream",
     "text": [
      "Survived       0    1\n",
      "Cabin_known          \n",
      "0            481  206\n",
      "1             68  136\n"
     ]
    },
    {
     "data": {
      "image/png": "[encoded data removed]",
      "text/plain": [
       "<matplotlib.figure.Figure at 0x26bf5514f98>"
      ]
     },
     "metadata": {},
     "output_type": "display_data"
    }
   ],
   "source": [
    "cab = pd.crosstab(train['Cabin_known'], train['Survived'])\n",
    "print(cab)\n",
    "cab.div(cab.sum(1).astype('float'), axis=0).plot(kind='bar', stacked=True);\n",
    "plt.xlabel('Cabin known');\n",
    "plt.ylabel('Percentage');"
   ]
  },
  {
   "cell_type": "code",
   "execution_count": 475,
   "metadata": {
    "collapsed": false
   },
   "outputs": [
    {
     "name": "stdout",
     "output_type": "stream",
     "text": [
      "Sex          female  male\n",
      "Cabin_known              \n",
      "0               217   470\n",
      "1                97   107\n",
      "\n",
      " Pclass         1    2    3\n",
      "Cabin_known               \n",
      "0             40  168  479\n",
      "1            176   16   12\n"
     ]
    },
    {
     "data": {
      "image/png": "[encoded data removed]",
      "text/plain": [
       "<matplotlib.figure.Figure at 0x26bf500aa58>"
      ]
     },
     "metadata": {},
     "output_type": "display_data"
    },
    {
     "data": {
      "image/png": "[encoded data removed]",
      "text/plain": [
       "<matplotlib.figure.Figure at 0x26bf52ca780>"
      ]
     },
     "metadata": {},
     "output_type": "display_data"
    }
   ],
   "source": [
    "cab = pd.crosstab(train['Cabin_known'], train['Sex'])\n",
    "print(cab)\n",
    "cab.div(cab.sum(1).astype('float'), axis=0).plot(kind='bar', stacked=True);\n",
    "\n",
    "cab = pd.crosstab(train['Cabin_known'], train['Pclass'])\n",
    "print('\\n',cab)\n",
    "cab.div(cab.sum(1).astype('float'), axis=0).plot(kind='bar', stacked=True);"
   ]
  },
  {
   "cell_type": "markdown",
   "metadata": {},
   "source": [
    "### Deck"
   ]
  },
  {
   "cell_type": "code",
   "execution_count": 476,
   "metadata": {
    "collapsed": false
   },
   "outputs": [
    {
     "name": "stdout",
     "output_type": "stream",
     "text": [
      "Survived    0    1\n",
      "Deck              \n",
      "A           8    7\n",
      "B          12   35\n",
      "C          24   35\n",
      "D           8   25\n",
      "E           8   24\n",
      "F           5    8\n",
      "G           2    2\n",
      "T           1    0\n",
      "U         481  206\n"
     ]
    },
    {
     "data": {
      "text/plain": [
       "<matplotlib.axes._subplots.AxesSubplot at 0x26bf6711a20>"
      ]
     },
     "execution_count": 476,
     "metadata": {},
     "output_type": "execute_result"
    },
    {
     "data": {
      "image/png": "[encoded data removed]",
      "text/plain": [
       "<matplotlib.figure.Figure at 0x26bf5535e80>"
      ]
     },
     "metadata": {},
     "output_type": "display_data"
    }
   ],
   "source": [
    "cab = pd.crosstab(train['Deck'], train['Survived'])\n",
    "print(cab)\n",
    "cab.div(cab.sum(1).astype('float'), axis=0).plot(kind='bar', stacked=True)"
   ]
  },
  {
   "cell_type": "code",
   "execution_count": 477,
   "metadata": {
    "collapsed": false
   },
   "outputs": [
    {
     "data": {
      "text/html": [
       "<div>\n",
       "<style>\n",
       "    .dataframe thead tr:only-child th {\n",
       "        text-align: right;\n",
       "    }\n",
       "\n",
       "    .dataframe thead th {\n",
       "        text-align: left;\n",
       "    }\n",
       "\n",
       "    .dataframe tbody tr th {\n",
       "        vertical-align: top;\n",
       "    }\n",
       "</style>\n",
       "<table border=\"1\" class=\"dataframe\">\n",
       "  <thead>\n",
       "    <tr style=\"text-align: right;\">\n",
       "      <th>Cabin_known</th>\n",
       "      <th>0</th>\n",
       "      <th>1</th>\n",
       "    </tr>\n",
       "    <tr>\n",
       "      <th>Deck</th>\n",
       "      <th></th>\n",
       "      <th></th>\n",
       "    </tr>\n",
       "  </thead>\n",
       "  <tbody>\n",
       "    <tr>\n",
       "      <th>A</th>\n",
       "      <td>0</td>\n",
       "      <td>15</td>\n",
       "    </tr>\n",
       "    <tr>\n",
       "      <th>B</th>\n",
       "      <td>0</td>\n",
       "      <td>47</td>\n",
       "    </tr>\n",
       "    <tr>\n",
       "      <th>C</th>\n",
       "      <td>0</td>\n",
       "      <td>59</td>\n",
       "    </tr>\n",
       "    <tr>\n",
       "      <th>D</th>\n",
       "      <td>0</td>\n",
       "      <td>33</td>\n",
       "    </tr>\n",
       "    <tr>\n",
       "      <th>E</th>\n",
       "      <td>0</td>\n",
       "      <td>32</td>\n",
       "    </tr>\n",
       "    <tr>\n",
       "      <th>F</th>\n",
       "      <td>0</td>\n",
       "      <td>13</td>\n",
       "    </tr>\n",
       "    <tr>\n",
       "      <th>G</th>\n",
       "      <td>0</td>\n",
       "      <td>4</td>\n",
       "    </tr>\n",
       "    <tr>\n",
       "      <th>T</th>\n",
       "      <td>0</td>\n",
       "      <td>1</td>\n",
       "    </tr>\n",
       "    <tr>\n",
       "      <th>U</th>\n",
       "      <td>687</td>\n",
       "      <td>0</td>\n",
       "    </tr>\n",
       "  </tbody>\n",
       "</table>\n",
       "</div>"
      ],
      "text/plain": [
       "Cabin_known    0   1\n",
       "Deck                \n",
       "A              0  15\n",
       "B              0  47\n",
       "C              0  59\n",
       "D              0  33\n",
       "E              0  32\n",
       "F              0  13\n",
       "G              0   4\n",
       "T              0   1\n",
       "U            687   0"
      ]
     },
     "execution_count": 477,
     "metadata": {},
     "output_type": "execute_result"
    }
   ],
   "source": [
    "pd.crosstab(train['Deck'], train['Cabin_known'])"
   ]
  },
  {
   "cell_type": "code",
   "execution_count": 478,
   "metadata": {
    "collapsed": false
   },
   "outputs": [
    {
     "name": "stdout",
     "output_type": "stream",
     "text": [
      "Survived    0    1\n",
      "Deck              \n",
      "A           8    7\n",
      "B          12   35\n",
      "C          24   35\n",
      "D           8   25\n",
      "E           8   24\n",
      "F           5    8\n",
      "G           2    2\n",
      "T           1    0\n",
      "U         481  206\n"
     ]
    },
    {
     "data": {
      "image/png": "[encoded data removed]",
      "text/plain": [
       "<matplotlib.figure.Figure at 0x26bf6771438>"
      ]
     },
     "metadata": {},
     "output_type": "display_data"
    }
   ],
   "source": [
    "deck = pd.crosstab(train['Deck'], train['Survived'])\n",
    "print(deck)\n",
    "deck.div(deck.sum(1).astype('float'), axis=0).plot(kind='bar', stacked=True);"
   ]
  },
  {
   "cell_type": "code",
   "execution_count": 479,
   "metadata": {
    "collapsed": false
   },
   "outputs": [
    {
     "data": {
      "text/plain": [
       "0.037415527401218264"
      ]
     },
     "execution_count": 479,
     "metadata": {},
     "output_type": "execute_result"
    }
   ],
   "source": [
    "stats.binom_test(x=12, n=12+35, p=24/(24.+35.))"
   ]
  },
  {
   "cell_type": "markdown",
   "metadata": {},
   "source": [
    "### Ticket Number"
   ]
  },
  {
   "cell_type": "code",
   "execution_count": 480,
   "metadata": {
    "collapsed": false
   },
   "outputs": [
    {
     "data": {
      "text/plain": [
       "array(['A', 'P', 'S', '1', '3', '2', 'C', '7', 'W', '4', 'F', 'L', '9',\n",
       "       '6', '5', '8'], dtype=object)"
      ]
     },
     "execution_count": 480,
     "metadata": {},
     "output_type": "execute_result"
    }
   ],
   "source": [
    "pd.concat([train, test]).Ttype.unique()"
   ]
  },
  {
   "cell_type": "code",
   "execution_count": 481,
   "metadata": {
    "collapsed": false
   },
   "outputs": [
    {
     "name": "stdout",
     "output_type": "stream",
     "text": [
      "Survived    0   1\n",
      "Ttype            \n",
      "1          54  92\n",
      "2          98  85\n",
      "3         229  72\n",
      "4           8   2\n",
      "5           3   0\n",
      "6           5   1\n",
      "7           8   1\n",
      "8           2   0\n",
      "9           0   1\n",
      "A          27   2\n",
      "C          31  16\n",
      "F           3   4\n",
      "L           3   1\n",
      "P          23  42\n",
      "S          44  21\n",
      "W          11   2\n"
     ]
    },
    {
     "data": {
      "text/plain": [
       "<matplotlib.axes._subplots.AxesSubplot at 0x26bf682e048>"
      ]
     },
     "execution_count": 481,
     "metadata": {},
     "output_type": "execute_result"
    },
    {
     "data": {
      "image/png": "[encoded data removed]",
      "text/plain": [
       "<matplotlib.figure.Figure at 0x26bf67fde80>"
      ]
     },
     "metadata": {},
     "output_type": "display_data"
    }
   ],
   "source": [
    "ticket = pd.crosstab(train['Ttype'], train['Survived'])\n",
    "print(ticket)\n",
    "ticket.div(ticket.sum(1).astype('float'), axis=0).plot(kind='bar', stacked=True)"
   ]
  },
  {
   "cell_type": "markdown",
   "metadata": {},
   "source": [
    "There are tickets that show a significant lower survival rate. We can package those into new features."
   ]
  },
  {
   "cell_type": "code",
   "execution_count": 482,
   "metadata": {
    "collapsed": false
   },
   "outputs": [
    {
     "data": {
      "image/png": "[encoded data removed]",
      "text/plain": [
       "<matplotlib.figure.Figure at 0x26bf4be8978>"
      ]
     },
     "metadata": {},
     "output_type": "display_data"
    }
   ],
   "source": [
    "sns.barplot(x=\"Ttype\", y=\"Survived\", data=train, ci=95.0, color=\"blue\");"
   ]
  },
  {
   "cell_type": "code",
   "execution_count": 483,
   "metadata": {
    "collapsed": true
   },
   "outputs": [],
   "source": [
    "train['Bad_ticket'] = train['Ttype'].isin(['A', '3', '7', 'W', '4', 'L', '6'])\n",
    "test['Bad_ticket'] = test['Ttype'].isin(['A', '3', '7', 'W', '4', 'L', '6'])"
   ]
  },
  {
   "cell_type": "code",
   "execution_count": 484,
   "metadata": {
    "collapsed": false
   },
   "outputs": [
    {
     "name": "stdout",
     "output_type": "stream",
     "text": [
      "Survived      0    1\n",
      "Bad_ticket          \n",
      "False       258  261\n",
      "True        291   81\n"
     ]
    },
    {
     "data": {
      "image/png": "[encoded data removed]",
      "text/plain": [
       "<matplotlib.figure.Figure at 0x26bf6a1e358>"
      ]
     },
     "metadata": {},
     "output_type": "display_data"
    }
   ],
   "source": [
    "tab = pd.crosstab(train['Bad_ticket'], train['Survived'])\n",
    "print(tab)\n",
    "tab.div(tab.sum(1).astype('float'), axis=0).plot(kind='bar', stacked=True);"
   ]
  },
  {
   "cell_type": "code",
   "execution_count": 485,
   "metadata": {
    "collapsed": false
   },
   "outputs": [
    {
     "name": "stdout",
     "output_type": "stream",
     "text": [
      "Bad_ticket  False  True \n",
      "Deck                    \n",
      "A              14      1\n",
      "B              44      3\n",
      "C              56      3\n",
      "D              24      9\n",
      "E              28      4\n",
      "F               9      4\n",
      "G               2      2\n",
      "T               1      0\n",
      "U             341    346\n"
     ]
    },
    {
     "data": {
      "image/png": "[encoded data removed]",
      "text/plain": [
       "<matplotlib.figure.Figure at 0x26bf6744ef0>"
      ]
     },
     "metadata": {},
     "output_type": "display_data"
    }
   ],
   "source": [
    "stacked_plot('Deck', 'Bad_ticket')"
   ]
  },
  {
   "cell_type": "markdown",
   "metadata": {},
   "source": [
    "### 'Age known'\n",
    "\n",
    "Age knows shows a statistically significant difference, but it seems it is most likely moderated by the Passenger Class"
   ]
  },
  {
   "cell_type": "code",
   "execution_count": 486,
   "metadata": {
    "collapsed": false
   },
   "outputs": [
    {
     "name": "stdout",
     "output_type": "stream",
     "text": [
      "Survived     0    1\n",
      "Age_known          \n",
      "0          125   52\n",
      "1          424  290\n"
     ]
    },
    {
     "data": {
      "image/png": "[encoded data removed]",
      "text/plain": [
       "<matplotlib.figure.Figure at 0x26bf6b3d7b8>"
      ]
     },
     "metadata": {},
     "output_type": "display_data"
    }
   ],
   "source": [
    "stacked_plot('Age_known', 'Survived')"
   ]
  },
  {
   "cell_type": "code",
   "execution_count": 487,
   "metadata": {
    "collapsed": false
   },
   "outputs": [
    {
     "data": {
      "text/plain": [
       "1.5623264542193693e-10"
      ]
     },
     "execution_count": 487,
     "metadata": {},
     "output_type": "execute_result"
    }
   ],
   "source": [
    "stats.binom_test(x=424,n=424+290,p=125/(125.+52.))"
   ]
  },
  {
   "cell_type": "code",
   "execution_count": 488,
   "metadata": {
    "collapsed": false
   },
   "outputs": [
    {
     "name": "stdout",
     "output_type": "stream",
     "text": [
      "Pclass       1    2    3\n",
      "Age_known               \n",
      "0           30   11  136\n",
      "1          186  173  355\n"
     ]
    },
    {
     "data": {
      "image/png": "[encoded data removed]",
      "text/plain": [
       "<matplotlib.figure.Figure at 0x26bf6c080b8>"
      ]
     },
     "metadata": {},
     "output_type": "display_data"
    }
   ],
   "source": [
    "stacked_plot('Age_known', 'Pclass')"
   ]
  },
  {
   "cell_type": "code",
   "execution_count": 489,
   "metadata": {
    "collapsed": false
   },
   "outputs": [
    {
     "name": "stdout",
     "output_type": "stream",
     "text": [
      "Sex        female  male\n",
      "Age_known              \n",
      "0              53   124\n",
      "1             261   453\n"
     ]
    },
    {
     "data": {
      "image/png": "[encoded data removed]",
      "text/plain": [
       "<matplotlib.figure.Figure at 0x26bf6c81e80>"
      ]
     },
     "metadata": {},
     "output_type": "display_data"
    }
   ],
   "source": [
    "stacked_plot('Age_known', 'Sex')"
   ]
  },
  {
   "cell_type": "markdown",
   "metadata": {},
   "source": [
    "### Family\n",
    "\n",
    "Again our first impression is reinforced, the highest chances of survival are between 1-3 Siblings. Afterwards your chances drop significantly."
   ]
  },
  {
   "cell_type": "code",
   "execution_count": 490,
   "metadata": {
    "collapsed": false
   },
   "outputs": [
    {
     "name": "stdout",
     "output_type": "stream",
     "text": [
      "Survived    0    1\n",
      "Family            \n",
      "0         374  163\n",
      "1          72   89\n",
      "2          43   59\n",
      "3           8   21\n",
      "4          12    3\n",
      "5          19    3\n",
      "6           8    4\n",
      "7           6    0\n",
      "10          7    0\n"
     ]
    },
    {
     "data": {
      "image/png": "[encoded data removed]",
      "text/plain": [
       "<matplotlib.figure.Figure at 0x26bf6d2f4e0>"
      ]
     },
     "metadata": {},
     "output_type": "display_data"
    }
   ],
   "source": [
    "stacked_plot('Family', 'Survived')"
   ]
  },
  {
   "cell_type": "markdown",
   "metadata": {},
   "source": [
    "### 'Alone'\n",
    "\n",
    "Most people traveling alone are men and 3rd Class, which explains their lower survival rate."
   ]
  },
  {
   "cell_type": "code",
   "execution_count": 491,
   "metadata": {
    "collapsed": false
   },
   "outputs": [
    {
     "name": "stdout",
     "output_type": "stream",
     "text": [
      "Survived    0    1\n",
      "Alone             \n",
      "0         175  179\n",
      "1         374  163\n"
     ]
    },
    {
     "data": {
      "image/png": "[encoded data removed]",
      "text/plain": [
       "<matplotlib.figure.Figure at 0x26bf6d99a58>"
      ]
     },
     "metadata": {},
     "output_type": "display_data"
    }
   ],
   "source": [
    "stacked_plot('Alone', 'Survived')"
   ]
  },
  {
   "cell_type": "code",
   "execution_count": 492,
   "metadata": {
    "collapsed": false
   },
   "outputs": [
    {
     "name": "stdout",
     "output_type": "stream",
     "text": [
      "Sex    female  male\n",
      "Alone              \n",
      "0         188   166\n",
      "1         126   411\n"
     ]
    },
    {
     "data": {
      "image/png": "[encoded data removed]",
      "text/plain": [
       "<matplotlib.figure.Figure at 0x26bf6e50320>"
      ]
     },
     "metadata": {},
     "output_type": "display_data"
    }
   ],
   "source": [
    "stacked_plot('Alone', 'Sex')"
   ]
  },
  {
   "cell_type": "code",
   "execution_count": 493,
   "metadata": {
    "collapsed": false
   },
   "outputs": [
    {
     "name": "stdout",
     "output_type": "stream",
     "text": [
      "Pclass    1    2    3\n",
      "Alone                \n",
      "0       107   80  167\n",
      "1       109  104  324\n"
     ]
    },
    {
     "data": {
      "image/png": "[encoded data removed]",
      "text/plain": [
       "<matplotlib.figure.Figure at 0x26bf6efd400>"
      ]
     },
     "metadata": {},
     "output_type": "display_data"
    }
   ],
   "source": [
    "stacked_plot('Alone', 'Pclass')"
   ]
  },
  {
   "cell_type": "code",
   "execution_count": 494,
   "metadata": {
    "collapsed": false
   },
   "outputs": [
    {
     "data": {
      "text/plain": [
       "Index(['Survived', 'Pclass', 'Name', 'Sex', 'Age', 'SibSp', 'Parch', 'Ticket',\n",
       "       'Fare', 'Cabin', 'Embarked', 'Child', 'Young', 'Young_m', 'Young_f',\n",
       "       'Cabin_known', 'Age_known', 'Family', 'Alone', 'LargeFamily', 'Deck',\n",
       "       'Ttype', 'Title', 'Bad_ticket'],\n",
       "      dtype='object')"
      ]
     },
     "execution_count": 494,
     "metadata": {},
     "output_type": "execute_result"
    }
   ],
   "source": [
    "train.keys()"
   ]
  },
  {
   "cell_type": "markdown",
   "metadata": {},
   "source": [
    "### Large Family"
   ]
  },
  {
   "cell_type": "code",
   "execution_count": 495,
   "metadata": {
    "collapsed": false
   },
   "outputs": [
    {
     "name": "stdout",
     "output_type": "stream",
     "text": [
      "Survived       0    1\n",
      "LargeFamily          \n",
      "0            501  334\n",
      "1             48    8\n"
     ]
    },
    {
     "data": {
      "image/png": "[encoded data removed]",
      "text/plain": [
       "<matplotlib.figure.Figure at 0x26bf6efd2b0>"
      ]
     },
     "metadata": {},
     "output_type": "display_data"
    }
   ],
   "source": [
    "stacked_plot('LargeFamily', 'Survived')"
   ]
  },
  {
   "cell_type": "code",
   "execution_count": 496,
   "metadata": {
    "collapsed": false
   },
   "outputs": [
    {
     "name": "stdout",
     "output_type": "stream",
     "text": [
      "Pclass         1    2    3\n",
      "LargeFamily               \n",
      "0            212  183  440\n",
      "1              4    1   51\n"
     ]
    },
    {
     "data": {
      "image/png": "[encoded data removed]",
      "text/plain": [
       "<matplotlib.figure.Figure at 0x26bf7fde1d0>"
      ]
     },
     "metadata": {},
     "output_type": "display_data"
    }
   ],
   "source": [
    "stacked_plot('LargeFamily', 'Pclass')"
   ]
  },
  {
   "cell_type": "markdown",
   "metadata": {},
   "source": [
    "### Names"
   ]
  },
  {
   "cell_type": "code",
   "execution_count": 497,
   "metadata": {
    "collapsed": false
   },
   "outputs": [
    {
     "name": "stdout",
     "output_type": "stream",
     "text": [
      "Title\n",
      "Capt              1\n",
      "Col               4\n",
      "Don               1\n",
      "Dona              1\n",
      "Dr                7\n",
      "Jonkheer          1\n",
      "Lady              1\n",
      "Major             2\n",
      "Master           53\n",
      "Miss            210\n",
      "Mlle              2\n",
      "Mme               1\n",
      "Mr              581\n",
      "Mrs             170\n",
      "Ms                1\n",
      "Rev               8\n",
      "Sir               1\n",
      "the Countess      1\n",
      "Name: Age, dtype: int64\n",
      "Title\n",
      "Capt            70.000000\n",
      "Col             54.000000\n",
      "Don             40.000000\n",
      "Dona            39.000000\n",
      "Dr              43.571429\n",
      "Jonkheer        38.000000\n",
      "Lady            48.000000\n",
      "Major           48.500000\n",
      "Master           5.482642\n",
      "Miss            21.774238\n",
      "Mlle            24.000000\n",
      "Mme             24.000000\n",
      "Mr              32.252151\n",
      "Mrs             36.994118\n",
      "Ms              28.000000\n",
      "Rev             41.250000\n",
      "Sir             49.000000\n",
      "the Countess    33.000000\n",
      "Name: Age, dtype: float64\n"
     ]
    }
   ],
   "source": [
    "dummy = pd.concat([train.drop('Survived',1), test])\n",
    "print(dummy['Age'].groupby(dummy['Title']).count())\n",
    "print(dummy['Age'].groupby(dummy['Title']).mean())"
   ]
  },
  {
   "cell_type": "code",
   "execution_count": 498,
   "metadata": {
    "collapsed": false
   },
   "outputs": [
    {
     "data": {
      "image/png": "[encoded data removed]",
      "text/plain": [
       "<matplotlib.figure.Figure at 0x26bf3b034e0>"
      ]
     },
     "metadata": {},
     "output_type": "display_data"
    }
   ],
   "source": [
    "dummy2 = dummy[dummy['Title'].isin(['Master', 'Mr', 'Miss', 'Mrs'])]\n",
    "dummy2['Age'].hist(by=dummy2['Title'], bins=np.arange(0,81,1));"
   ]
  },
  {
   "cell_type": "markdown",
   "metadata": {},
   "source": [
    "Master / Mr is capturing the Relation between male childre/teenager and grownups very well. With Miss and Mrs the overlap is more substantial"
   ]
  },
  {
   "cell_type": "code",
   "execution_count": 499,
   "metadata": {
    "collapsed": false
   },
   "outputs": [
    {
     "data": {
      "image/png": "[encoded data removed]",
      "text/plain": [
       "<matplotlib.figure.Figure at 0x26bf182d7b8>"
      ]
     },
     "metadata": {},
     "output_type": "display_data"
    }
   ],
   "source": [
    "miss = dummy[dummy['Title']=='Miss']\n",
    "mrs = dummy[dummy['Title']=='Mrs']\n",
    "\n",
    "plt.hist(miss['Age'].dropna().values, color='orange', bins=np.arange(0,81,1));\n",
    "plt.hist(mrs['Age'].dropna().values, histtype='step', color='blue', bins=np.arange(0,81,1));"
   ]
  },
  {
   "cell_type": "code",
   "execution_count": 500,
   "metadata": {
    "collapsed": false
   },
   "outputs": [
    {
     "data": {
      "text/plain": [
       "<matplotlib.axes._subplots.AxesSubplot at 0x26bf819b898>"
      ]
     },
     "execution_count": 500,
     "metadata": {},
     "output_type": "execute_result"
    },
    {
     "data": {
      "image/png": "[encoded data removed]",
      "text/plain": [
       "<matplotlib.figure.Figure at 0x26bf8198160>"
      ]
     },
     "metadata": {},
     "output_type": "display_data"
    }
   ],
   "source": [
    "train['Sex'][train['Age'].isnull()].value_counts().plot(kind='bar')"
   ]
  },
  {
   "cell_type": "code",
   "execution_count": 501,
   "metadata": {
    "collapsed": false
   },
   "outputs": [
    {
     "name": "stderr",
     "output_type": "stream",
     "text": [
      "C:\\Users\\frank\\Anaconda3\\envs\\tensorflow-gpu\\lib\\site-packages\\ipykernel_launcher.py:2: SettingWithCopyWarning: \n",
      "A value is trying to be set on a copy of a slice from a DataFrame\n",
      "\n",
      "See the caveats in the documentation: http://pandas.pydata.org/pandas-docs/stable/indexing.html#indexing-view-versus-copy\n",
      "  \n",
      "C:\\Users\\frank\\Anaconda3\\envs\\tensorflow-gpu\\lib\\site-packages\\ipykernel_launcher.py:3: SettingWithCopyWarning: \n",
      "A value is trying to be set on a copy of a slice from a DataFrame\n",
      "\n",
      "See the caveats in the documentation: http://pandas.pydata.org/pandas-docs/stable/indexing.html#indexing-view-versus-copy\n",
      "  This is separate from the ipykernel package so we can avoid doing imports until\n"
     ]
    }
   ],
   "source": [
    "# Filling in the male values using the Distinction Mr/Master to distinguish Young_m from Grownup\n",
    "train['Child'][(train['Sex']=='male') & (train['Title']=='Master') &(train['Age'].isnull())] = 1\n",
    "train['Age'][(train['Sex']=='male') & (train['Title']=='Master') &(train['Age'].isnull())] = train['Age'][(train['Sex']=='male')&(train['Young']==1)].mean()"
   ]
  },
  {
   "cell_type": "markdown",
   "metadata": {},
   "source": [
    "Let's look at the Age distributions for females to find something to help us better approximate the most important survival decission for women. Are you between 18-40 or not.."
   ]
  },
  {
   "cell_type": "code",
   "execution_count": 502,
   "metadata": {
    "collapsed": false
   },
   "outputs": [
    {
     "data": {
      "text/plain": [
       "3    42\n",
       "1     9\n",
       "2     2\n",
       "Name: Pclass, dtype: int64"
      ]
     },
     "execution_count": 502,
     "metadata": {},
     "output_type": "execute_result"
    }
   ],
   "source": [
    "missing_fem = train[(train['Sex']=='female') & (train['Age'].isnull())]\n",
    "missing_fem.Pclass.value_counts()"
   ]
  },
  {
   "cell_type": "markdown",
   "metadata": {},
   "source": [
    "Most our missing values are in the third class. I would assume that the title 'Mrs' actually indicates a not yet married woman, which a lower income person most likely could not sustain for long. Let's see if our data reflects this class related use of the Title."
   ]
  },
  {
   "cell_type": "code",
   "execution_count": 503,
   "metadata": {
    "collapsed": false
   },
   "outputs": [
    {
     "name": "stdout",
     "output_type": "stream",
     "text": [
      "30.0 22.390625 16.1231884058\n",
      "40.8823529412 33.6829268293 33.5151515152\n"
     ]
    }
   ],
   "source": [
    "# Calculate Mean Ages\n",
    "miss_avg_1 = train['Age'][(train['Sex']=='female')&(train['Pclass']==1)&(train['Title']=='Miss')].mean()\n",
    "miss_avg_2 = train['Age'][(train['Sex']=='female')&(train['Pclass']==2)&(train['Title']=='Miss')].mean()\n",
    "miss_avg_3 = train['Age'][(train['Sex']=='female')&(train['Pclass']==3)&(train['Title']=='Miss')].mean()\n",
    "\n",
    "mrs_avg_1 = train['Age'][(train['Sex']=='female')&(train['Pclass']==1)&(train['Title']=='Mrs')].mean()\n",
    "mrs_avg_2 = train['Age'][(train['Sex']=='female')&(train['Pclass']==2)&(train['Title']=='Mrs')].mean()\n",
    "mrs_avg_3 = train['Age'][(train['Sex']=='female')&(train['Pclass']==3)&(train['Title']=='Mrs')].mean()\n",
    "\n",
    "print(miss_avg_1, miss_avg_2, miss_avg_3)\n",
    "print(mrs_avg_1, mrs_avg_2, mrs_avg_3)"
   ]
  },
  {
   "cell_type": "code",
   "execution_count": 504,
   "metadata": {
    "collapsed": false
   },
   "outputs": [
    {
     "name": "stdout",
     "output_type": "stream",
     "text": [
      "Mean Age per Class (3-1):\n",
      "16.1231884058\n",
      "22.390625\n",
      "30.0\n",
      "Age Std per Class(3-1):\n",
      "9.69731459079\n",
      "13.3747079407\n",
      "12.8523078932\n"
     ]
    },
    {
     "data": {
      "image/png": "[encoded data removed]",
      "text/plain": [
       "<matplotlib.figure.Figure at 0x26bf3a57908>"
      ]
     },
     "metadata": {},
     "output_type": "display_data"
    }
   ],
   "source": [
    "# First we look at the mean age values per class\n",
    "print('Mean Age per Class (3-1):')\n",
    "print(train['Age'][(train['Sex']=='female')&(train['Pclass']==3)&(train['Title']=='Miss')].mean())\n",
    "print(train['Age'][(train['Sex']=='female')&(train['Pclass']==2)&(train['Title']=='Miss')].mean())\n",
    "print(train['Age'][(train['Sex']=='female')&(train['Pclass']==1)&(train['Title']=='Miss')].mean())\n",
    "print('Age Std per Class(3-1):')\n",
    "print(train['Age'][(train['Sex']=='female')&(train['Pclass']==3)&(train['Title']=='Miss')].std())\n",
    "print(train['Age'][(train['Sex']=='female')&(train['Pclass']==2)&(train['Title']=='Miss')].std())\n",
    "print(train['Age'][(train['Sex']=='female')&(train['Pclass']==1)&(train['Title']=='Miss')].std())\n",
    "\n",
    "# Plotting 'Miss'\n",
    "train['Age'][(train['Sex']=='female')&(train['Pclass']==3)&(train['Title']=='Miss')].hist(alpha=0.4, label='3rd')\n",
    "train['Age'][(train['Sex']=='female')&(train['Pclass']==2)&(train['Title']=='Miss')].hist(alpha=0.4, label='2nd')\n",
    "train['Age'][(train['Sex']=='female')&(train['Pclass']==1)&(train['Title']=='Miss')].hist(alpha=0.4, label='1st')\n",
    "plt.legend(['third', 'second', 'first']);\n",
    "plt.title('Age Distribution for Women Titled Miss');\n",
    "plt.xlabel('Age');\n",
    "plt.ylabel('Count');"
   ]
  },
  {
   "cell_type": "code",
   "execution_count": 505,
   "metadata": {
    "collapsed": false
   },
   "outputs": [
    {
     "name": "stdout",
     "output_type": "stream",
     "text": [
      "Mean Age per Class (3-1):\n",
      "33.5151515152\n",
      "33.6829268293\n",
      "40.8823529412\n",
      "Age Std per Class(3-1):\n",
      "10.0315789264\n",
      "10.3185246629\n",
      "12.643754491\n"
     ]
    },
    {
     "data": {
      "text/plain": [
       "<matplotlib.text.Text at 0x26bf540ce48>"
      ]
     },
     "execution_count": 505,
     "metadata": {},
     "output_type": "execute_result"
    },
    {
     "data": {
      "image/png": "[encoded data removed]",
      "text/plain": [
       "<matplotlib.figure.Figure at 0x26bf3a68208>"
      ]
     },
     "metadata": {},
     "output_type": "display_data"
    }
   ],
   "source": [
    "# First we look at the mean age values per class\n",
    "print('Mean Age per Class (3-1):')\n",
    "print(train['Age'][(train['Sex']=='female')&(train['Pclass']==3)&(train['Title']=='Mrs')].mean())\n",
    "print(train['Age'][(train['Sex']=='female')&(train['Pclass']==2)&(train['Title']=='Mrs')].mean())\n",
    "print(train['Age'][(train['Sex']=='female')&(train['Pclass']==1)&(train['Title']=='Mrs')].mean())\n",
    "print('Age Std per Class(3-1):')\n",
    "print(train['Age'][(train['Sex']=='female')&(train['Pclass']==3)&(train['Title']=='Mrs')].std())\n",
    "print(train['Age'][(train['Sex']=='female')&(train['Pclass']==2)&(train['Title']=='Mrs')].std())\n",
    "print(train['Age'][(train['Sex']=='female')&(train['Pclass']==1)&(train['Title']=='Mrs')].std())\n",
    "\n",
    "# Plotting 'Mrs'\n",
    "train['Age'][(train['Sex']=='female')&(train['Pclass']==3)&(train['Title']=='Mrs')].hist(alpha=0.4, label='3rd')\n",
    "train['Age'][(train['Sex']=='female')&(train['Pclass']==2)&(train['Title']=='Mrs')].hist(alpha=0.4, label='2nd')\n",
    "train['Age'][(train['Sex']=='female')&(train['Pclass']==1)&(train['Title']=='Mrs')].hist(alpha=0.4, label='1st')\n",
    "plt.legend(['third', 'second', 'first'])\n",
    "plt.title('Age Distribution for Women Titled Mrs')\n",
    "plt.xlabel('Age')\n",
    "plt.ylabel('Count')"
   ]
  },
  {
   "cell_type": "markdown",
   "metadata": {
    "collapsed": true
   },
   "source": [
    "It seems there is a helpfull difference in the Useage of the Titles between the classes. \n",
    "Without misslabeling too many people, we can assume:\n",
    "- 1st Class: Miss(Young_f)\n",
    "- 2nd Class: Miss is too evenly spread to be of any use\n",
    "- 3rd Class: Miss for children, and Mrs following afterward"
   ]
  },
  {
   "cell_type": "code",
   "execution_count": 506,
   "metadata": {
    "collapsed": false
   },
   "outputs": [
    {
     "data": {
      "text/plain": [
       "Index(['Survived', 'Pclass', 'Name', 'Sex', 'Age', 'SibSp', 'Parch', 'Ticket',\n",
       "       'Fare', 'Cabin', 'Embarked', 'Child', 'Young', 'Young_m', 'Young_f',\n",
       "       'Cabin_known', 'Age_known', 'Family', 'Alone', 'LargeFamily', 'Deck',\n",
       "       'Ttype', 'Title', 'Bad_ticket'],\n",
       "      dtype='object')"
      ]
     },
     "execution_count": 506,
     "metadata": {},
     "output_type": "execute_result"
    }
   ],
   "source": [
    "train.keys()"
   ]
  },
  {
   "cell_type": "markdown",
   "metadata": {},
   "source": [
    "In order to make use of the difference in Age based on 'Pclass' i am implementing them manually over the already labeled 'Young_f', 'Young_m' classes. As those pick up the most relevant trend in survival based on Age as moderated by 'Sex'.\n",
    "\n",
    "I am picking out the missing values based on 'Pclass' and 'Title' and set their Categories, and impute 'Age' on the mean Average Values for the use of that title in the respective class."
   ]
  },
  {
   "cell_type": "code",
   "execution_count": 507,
   "metadata": {
    "collapsed": false
   },
   "outputs": [
    {
     "name": "stderr",
     "output_type": "stream",
     "text": [
      "C:\\Users\\frank\\Anaconda3\\envs\\tensorflow-gpu\\lib\\site-packages\\ipykernel_launcher.py:2: SettingWithCopyWarning: \n",
      "A value is trying to be set on a copy of a slice from a DataFrame\n",
      "\n",
      "See the caveats in the documentation: http://pandas.pydata.org/pandas-docs/stable/indexing.html#indexing-view-versus-copy\n",
      "  \n",
      "C:\\Users\\frank\\Anaconda3\\envs\\tensorflow-gpu\\lib\\site-packages\\ipykernel_launcher.py:3: SettingWithCopyWarning: \n",
      "A value is trying to be set on a copy of a slice from a DataFrame\n",
      "\n",
      "See the caveats in the documentation: http://pandas.pydata.org/pandas-docs/stable/indexing.html#indexing-view-versus-copy\n",
      "  This is separate from the ipykernel package so we can avoid doing imports until\n",
      "C:\\Users\\frank\\Anaconda3\\envs\\tensorflow-gpu\\lib\\site-packages\\ipykernel_launcher.py:4: SettingWithCopyWarning: \n",
      "A value is trying to be set on a copy of a slice from a DataFrame\n",
      "\n",
      "See the caveats in the documentation: http://pandas.pydata.org/pandas-docs/stable/indexing.html#indexing-view-versus-copy\n",
      "  after removing the cwd from sys.path.\n",
      "C:\\Users\\frank\\Anaconda3\\envs\\tensorflow-gpu\\lib\\site-packages\\ipykernel_launcher.py:6: SettingWithCopyWarning: \n",
      "A value is trying to be set on a copy of a slice from a DataFrame\n",
      "\n",
      "See the caveats in the documentation: http://pandas.pydata.org/pandas-docs/stable/indexing.html#indexing-view-versus-copy\n",
      "  \n",
      "C:\\Users\\frank\\Anaconda3\\envs\\tensorflow-gpu\\lib\\site-packages\\ipykernel_launcher.py:7: SettingWithCopyWarning: \n",
      "A value is trying to be set on a copy of a slice from a DataFrame\n",
      "\n",
      "See the caveats in the documentation: http://pandas.pydata.org/pandas-docs/stable/indexing.html#indexing-view-versus-copy\n",
      "  import sys\n",
      "C:\\Users\\frank\\Anaconda3\\envs\\tensorflow-gpu\\lib\\site-packages\\ipykernel_launcher.py:8: SettingWithCopyWarning: \n",
      "A value is trying to be set on a copy of a slice from a DataFrame\n",
      "\n",
      "See the caveats in the documentation: http://pandas.pydata.org/pandas-docs/stable/indexing.html#indexing-view-versus-copy\n",
      "  \n"
     ]
    }
   ],
   "source": [
    "# Implementing for 1st Class\n",
    "train['Young_f'][(train['Sex']=='female')&(train['Age'].isnull())&(train['Pclass']==1)&(train['Title']=='Miss')] = 1\n",
    "train['Young'][(train['Sex']=='female')&(train['Age'].isnull())&(train['Pclass']==1)&(train['Title']=='Miss')] = 1\n",
    "train['Age'][(train['Sex']=='female')&(train['Age'].isnull())&(train['Pclass']==1)&(train['Title']=='Miss')] = miss_avg_1\n",
    "\n",
    "train['Young_f'][(train['Sex']=='female')&(train['Age'].isnull())&(train['Pclass']==1)&(train['Title']=='Mrs')] = 0\n",
    "train['Young'][(train['Sex']=='female')&(train['Age'].isnull())&(train['Pclass']==1)&(train['Title']=='Mrs')] = 0\n",
    "train['Age'][(train['Sex']=='female')&(train['Age'].isnull())&(train['Pclass']==1)&(train['Title']=='Mrs')] = mrs_avg_1\n"
   ]
  },
  {
   "cell_type": "code",
   "execution_count": 508,
   "metadata": {
    "collapsed": false
   },
   "outputs": [
    {
     "name": "stderr",
     "output_type": "stream",
     "text": [
      "C:\\Users\\frank\\Anaconda3\\envs\\tensorflow-gpu\\lib\\site-packages\\ipykernel_launcher.py:2: SettingWithCopyWarning: \n",
      "A value is trying to be set on a copy of a slice from a DataFrame\n",
      "\n",
      "See the caveats in the documentation: http://pandas.pydata.org/pandas-docs/stable/indexing.html#indexing-view-versus-copy\n",
      "  \n",
      "C:\\Users\\frank\\Anaconda3\\envs\\tensorflow-gpu\\lib\\site-packages\\ipykernel_launcher.py:3: SettingWithCopyWarning: \n",
      "A value is trying to be set on a copy of a slice from a DataFrame\n",
      "\n",
      "See the caveats in the documentation: http://pandas.pydata.org/pandas-docs/stable/indexing.html#indexing-view-versus-copy\n",
      "  This is separate from the ipykernel package so we can avoid doing imports until\n",
      "C:\\Users\\frank\\Anaconda3\\envs\\tensorflow-gpu\\lib\\site-packages\\ipykernel_launcher.py:4: SettingWithCopyWarning: \n",
      "A value is trying to be set on a copy of a slice from a DataFrame\n",
      "\n",
      "See the caveats in the documentation: http://pandas.pydata.org/pandas-docs/stable/indexing.html#indexing-view-versus-copy\n",
      "  after removing the cwd from sys.path.\n",
      "C:\\Users\\frank\\Anaconda3\\envs\\tensorflow-gpu\\lib\\site-packages\\ipykernel_launcher.py:6: SettingWithCopyWarning: \n",
      "A value is trying to be set on a copy of a slice from a DataFrame\n",
      "\n",
      "See the caveats in the documentation: http://pandas.pydata.org/pandas-docs/stable/indexing.html#indexing-view-versus-copy\n",
      "  \n",
      "C:\\Users\\frank\\Anaconda3\\envs\\tensorflow-gpu\\lib\\site-packages\\ipykernel_launcher.py:7: SettingWithCopyWarning: \n",
      "A value is trying to be set on a copy of a slice from a DataFrame\n",
      "\n",
      "See the caveats in the documentation: http://pandas.pydata.org/pandas-docs/stable/indexing.html#indexing-view-versus-copy\n",
      "  import sys\n",
      "C:\\Users\\frank\\Anaconda3\\envs\\tensorflow-gpu\\lib\\site-packages\\ipykernel_launcher.py:8: SettingWithCopyWarning: \n",
      "A value is trying to be set on a copy of a slice from a DataFrame\n",
      "\n",
      "See the caveats in the documentation: http://pandas.pydata.org/pandas-docs/stable/indexing.html#indexing-view-versus-copy\n",
      "  \n"
     ]
    }
   ],
   "source": [
    "# Implementing for 1st Class\n",
    "test['Young_f'][(test['Sex']=='female')&(test['Age'].isnull())&(test['Pclass']==1)&(test['Title']=='Miss')] = 1\n",
    "test['Young'][(test['Sex']=='female')&(test['Age'].isnull())&(test['Pclass']==1)&(test['Title']=='Miss')] = 1\n",
    "test['Age'][(test['Sex']=='female')&(test['Age'].isnull())&(test['Pclass']==1)&(test['Title']=='Miss')] = miss_avg_1\n",
    "\n",
    "test['Young_f'][(test['Sex']=='female')&(test['Age'].isnull())&(test['Pclass']==1)&(test['Title']=='Mrs')] = 0\n",
    "test['Young'][(test['Sex']=='female')&(test['Age'].isnull())&(test['Pclass']==1)&(test['Title']=='Mrs')] = 0\n",
    "test['Age'][(test['Sex']=='female')&(test['Age'].isnull())&(test['Pclass']==1)&(test['Title']=='Mrs')] = mrs_avg_1\n"
   ]
  },
  {
   "cell_type": "code",
   "execution_count": 509,
   "metadata": {
    "collapsed": false
   },
   "outputs": [
    {
     "name": "stderr",
     "output_type": "stream",
     "text": [
      "C:\\Users\\frank\\Anaconda3\\envs\\tensorflow-gpu\\lib\\site-packages\\ipykernel_launcher.py:2: SettingWithCopyWarning: \n",
      "A value is trying to be set on a copy of a slice from a DataFrame\n",
      "\n",
      "See the caveats in the documentation: http://pandas.pydata.org/pandas-docs/stable/indexing.html#indexing-view-versus-copy\n",
      "  \n",
      "C:\\Users\\frank\\Anaconda3\\envs\\tensorflow-gpu\\lib\\site-packages\\ipykernel_launcher.py:3: SettingWithCopyWarning: \n",
      "A value is trying to be set on a copy of a slice from a DataFrame\n",
      "\n",
      "See the caveats in the documentation: http://pandas.pydata.org/pandas-docs/stable/indexing.html#indexing-view-versus-copy\n",
      "  This is separate from the ipykernel package so we can avoid doing imports until\n",
      "C:\\Users\\frank\\Anaconda3\\envs\\tensorflow-gpu\\lib\\site-packages\\ipykernel_launcher.py:5: SettingWithCopyWarning: \n",
      "A value is trying to be set on a copy of a slice from a DataFrame\n",
      "\n",
      "See the caveats in the documentation: http://pandas.pydata.org/pandas-docs/stable/indexing.html#indexing-view-versus-copy\n",
      "  \"\"\"\n",
      "C:\\Users\\frank\\Anaconda3\\envs\\tensorflow-gpu\\lib\\site-packages\\ipykernel_launcher.py:8: SettingWithCopyWarning: \n",
      "A value is trying to be set on a copy of a slice from a DataFrame\n",
      "\n",
      "See the caveats in the documentation: http://pandas.pydata.org/pandas-docs/stable/indexing.html#indexing-view-versus-copy\n",
      "  \n",
      "C:\\Users\\frank\\Anaconda3\\envs\\tensorflow-gpu\\lib\\site-packages\\ipykernel_launcher.py:9: SettingWithCopyWarning: \n",
      "A value is trying to be set on a copy of a slice from a DataFrame\n",
      "\n",
      "See the caveats in the documentation: http://pandas.pydata.org/pandas-docs/stable/indexing.html#indexing-view-versus-copy\n",
      "  if __name__ == '__main__':\n",
      "C:\\Users\\frank\\Anaconda3\\envs\\tensorflow-gpu\\lib\\site-packages\\ipykernel_launcher.py:10: SettingWithCopyWarning: \n",
      "A value is trying to be set on a copy of a slice from a DataFrame\n",
      "\n",
      "See the caveats in the documentation: http://pandas.pydata.org/pandas-docs/stable/indexing.html#indexing-view-versus-copy\n",
      "  # Remove the CWD from sys.path while we load stuff.\n"
     ]
    }
   ],
   "source": [
    "# Imputing 3rd Class 'Mrs\n",
    "train['Young_f'][(train['Sex']=='female')&(train['Age'].isnull())&(train['Pclass']==3)&(train['Title']=='Mrs')] = 1\n",
    "train['Young'][(train['Sex']=='female')&(train['Age'].isnull())&(train['Pclass']==3)&(train['Title']=='Mrs')] = 1\n",
    "# Fill in the mean values\n",
    "train['Age'][(train['Sex']=='female')&(train['Age'].isnull())&(train['Pclass']==3)&(train['Title']=='Mrs')] = mrs_avg_3\n",
    "\n",
    "# Imputing 3rd Class 'Miss'\n",
    "train['Young_f'][(train['Sex']=='female')&(train['Age'].isnull())&(train['Pclass']==3)&(train['Title']=='Miss')] = 0\n",
    "train['Child'][(train['Sex']=='female')&(train['Age'].isnull())&(train['Pclass']==3)&(train['Title']=='Miss')] = 1\n",
    "train['Age'][(train['Sex']=='female')&(train['Age'].isnull())&(train['Pclass']==3)&(train['Title']=='Miss')] = miss_avg_3\n"
   ]
  },
  {
   "cell_type": "code",
   "execution_count": 510,
   "metadata": {
    "collapsed": false
   },
   "outputs": [
    {
     "name": "stderr",
     "output_type": "stream",
     "text": [
      "C:\\Users\\frank\\Anaconda3\\envs\\tensorflow-gpu\\lib\\site-packages\\ipykernel_launcher.py:2: SettingWithCopyWarning: \n",
      "A value is trying to be set on a copy of a slice from a DataFrame\n",
      "\n",
      "See the caveats in the documentation: http://pandas.pydata.org/pandas-docs/stable/indexing.html#indexing-view-versus-copy\n",
      "  \n",
      "C:\\Users\\frank\\Anaconda3\\envs\\tensorflow-gpu\\lib\\site-packages\\ipykernel_launcher.py:3: SettingWithCopyWarning: \n",
      "A value is trying to be set on a copy of a slice from a DataFrame\n",
      "\n",
      "See the caveats in the documentation: http://pandas.pydata.org/pandas-docs/stable/indexing.html#indexing-view-versus-copy\n",
      "  This is separate from the ipykernel package so we can avoid doing imports until\n",
      "C:\\Users\\frank\\Anaconda3\\envs\\tensorflow-gpu\\lib\\site-packages\\ipykernel_launcher.py:5: SettingWithCopyWarning: \n",
      "A value is trying to be set on a copy of a slice from a DataFrame\n",
      "\n",
      "See the caveats in the documentation: http://pandas.pydata.org/pandas-docs/stable/indexing.html#indexing-view-versus-copy\n",
      "  \"\"\"\n",
      "C:\\Users\\frank\\Anaconda3\\envs\\tensorflow-gpu\\lib\\site-packages\\ipykernel_launcher.py:8: SettingWithCopyWarning: \n",
      "A value is trying to be set on a copy of a slice from a DataFrame\n",
      "\n",
      "See the caveats in the documentation: http://pandas.pydata.org/pandas-docs/stable/indexing.html#indexing-view-versus-copy\n",
      "  \n",
      "C:\\Users\\frank\\Anaconda3\\envs\\tensorflow-gpu\\lib\\site-packages\\ipykernel_launcher.py:9: SettingWithCopyWarning: \n",
      "A value is trying to be set on a copy of a slice from a DataFrame\n",
      "\n",
      "See the caveats in the documentation: http://pandas.pydata.org/pandas-docs/stable/indexing.html#indexing-view-versus-copy\n",
      "  if __name__ == '__main__':\n",
      "C:\\Users\\frank\\Anaconda3\\envs\\tensorflow-gpu\\lib\\site-packages\\ipykernel_launcher.py:10: SettingWithCopyWarning: \n",
      "A value is trying to be set on a copy of a slice from a DataFrame\n",
      "\n",
      "See the caveats in the documentation: http://pandas.pydata.org/pandas-docs/stable/indexing.html#indexing-view-versus-copy\n",
      "  # Remove the CWD from sys.path while we load stuff.\n"
     ]
    }
   ],
   "source": [
    "# Imputing 3rd Class 'Mrs\n",
    "test['Young_f'][(test['Sex']=='female')&(test['Age'].isnull())&(test['Pclass']==3)&(test['Title']=='Mrs')] = 1\n",
    "test['Young'][(test['Sex']=='female')&(test['Age'].isnull())&(test['Pclass']==3)&(test['Title']=='Mrs')] = 1\n",
    "# Fill in the mean values\n",
    "test['Age'][(test['Sex']=='female')&(test['Age'].isnull())&(test['Pclass']==3)&(test['Title']=='Mrs')] = mrs_avg_3\n",
    "\n",
    "# Imputing 3rd Class 'Miss'\n",
    "test['Young_f'][(test['Sex']=='female')&(test['Age'].isnull())&(test['Pclass']==3)&(test['Title']=='Miss')] = 0\n",
    "test['Child'][(test['Sex']=='female')&(test['Age'].isnull())&(test['Pclass']==3)&(test['Title']=='Miss')] = 1\n",
    "test['Age'][(test['Sex']=='female')&(test['Age'].isnull())&(test['Pclass']==3)&(test['Title']=='Miss')] = miss_avg_3\n"
   ]
  },
  {
   "cell_type": "code",
   "execution_count": 511,
   "metadata": {
    "collapsed": false
   },
   "outputs": [
    {
     "name": "stderr",
     "output_type": "stream",
     "text": [
      "C:\\Users\\frank\\Anaconda3\\envs\\tensorflow-gpu\\lib\\site-packages\\ipykernel_launcher.py:2: SettingWithCopyWarning: \n",
      "A value is trying to be set on a copy of a slice from a DataFrame\n",
      "\n",
      "See the caveats in the documentation: http://pandas.pydata.org/pandas-docs/stable/indexing.html#indexing-view-versus-copy\n",
      "  \n",
      "C:\\Users\\frank\\Anaconda3\\envs\\tensorflow-gpu\\lib\\site-packages\\ipykernel_launcher.py:3: SettingWithCopyWarning: \n",
      "A value is trying to be set on a copy of a slice from a DataFrame\n",
      "\n",
      "See the caveats in the documentation: http://pandas.pydata.org/pandas-docs/stable/indexing.html#indexing-view-versus-copy\n",
      "  This is separate from the ipykernel package so we can avoid doing imports until\n",
      "C:\\Users\\frank\\Anaconda3\\envs\\tensorflow-gpu\\lib\\site-packages\\ipykernel_launcher.py:5: SettingWithCopyWarning: \n",
      "A value is trying to be set on a copy of a slice from a DataFrame\n",
      "\n",
      "See the caveats in the documentation: http://pandas.pydata.org/pandas-docs/stable/indexing.html#indexing-view-versus-copy\n",
      "  \"\"\"\n",
      "C:\\Users\\frank\\Anaconda3\\envs\\tensorflow-gpu\\lib\\site-packages\\ipykernel_launcher.py:8: SettingWithCopyWarning: \n",
      "A value is trying to be set on a copy of a slice from a DataFrame\n",
      "\n",
      "See the caveats in the documentation: http://pandas.pydata.org/pandas-docs/stable/indexing.html#indexing-view-versus-copy\n",
      "  \n",
      "C:\\Users\\frank\\Anaconda3\\envs\\tensorflow-gpu\\lib\\site-packages\\ipykernel_launcher.py:9: SettingWithCopyWarning: \n",
      "A value is trying to be set on a copy of a slice from a DataFrame\n",
      "\n",
      "See the caveats in the documentation: http://pandas.pydata.org/pandas-docs/stable/indexing.html#indexing-view-versus-copy\n",
      "  if __name__ == '__main__':\n",
      "C:\\Users\\frank\\Anaconda3\\envs\\tensorflow-gpu\\lib\\site-packages\\ipykernel_launcher.py:10: SettingWithCopyWarning: \n",
      "A value is trying to be set on a copy of a slice from a DataFrame\n",
      "\n",
      "See the caveats in the documentation: http://pandas.pydata.org/pandas-docs/stable/indexing.html#indexing-view-versus-copy\n",
      "  # Remove the CWD from sys.path while we load stuff.\n"
     ]
    }
   ],
   "source": [
    "# Imputing 2nd Class 'Mrs\n",
    "train['Young_f'][(train['Sex']=='female')&(train['Age'].isnull())&(train['Pclass']==3)&(train['Title']=='Mrs')] = 1\n",
    "train['Young'][(train['Sex']=='female')&(train['Age'].isnull())&(train['Pclass']==3)&(train['Title']=='Mrs')] = 1\n",
    "# Fill in the mean values\n",
    "train['Age'][(train['Sex']=='female')&(train['Age'].isnull())&(train['Pclass']==3)&(train['Title']=='Mrs')] = mrs_avg_3\n",
    "\n",
    "# Imputing 3rd Class 'Miss'\n",
    "train['Young_f'][(train['Sex']=='female')&(train['Age'].isnull())&(train['Pclass']==3)&(train['Title']=='Miss')] = 0\n",
    "train['Child'][(train['Sex']=='female')&(train['Age'].isnull())&(train['Pclass']==3)&(train['Title']=='Miss')] = 1\n",
    "train['Age'][(train['Sex']=='female')&(train['Age'].isnull())&(train['Pclass']==3)&(train['Title']=='Miss')] = miss_avg_3\n"
   ]
  },
  {
   "cell_type": "code",
   "execution_count": 512,
   "metadata": {
    "collapsed": false
   },
   "outputs": [
    {
     "name": "stderr",
     "output_type": "stream",
     "text": [
      "C:\\Users\\frank\\Anaconda3\\envs\\tensorflow-gpu\\lib\\site-packages\\ipykernel_launcher.py:2: SettingWithCopyWarning: \n",
      "A value is trying to be set on a copy of a slice from a DataFrame\n",
      "\n",
      "See the caveats in the documentation: http://pandas.pydata.org/pandas-docs/stable/indexing.html#indexing-view-versus-copy\n",
      "  \n",
      "C:\\Users\\frank\\Anaconda3\\envs\\tensorflow-gpu\\lib\\site-packages\\ipykernel_launcher.py:3: SettingWithCopyWarning: \n",
      "A value is trying to be set on a copy of a slice from a DataFrame\n",
      "\n",
      "See the caveats in the documentation: http://pandas.pydata.org/pandas-docs/stable/indexing.html#indexing-view-versus-copy\n",
      "  This is separate from the ipykernel package so we can avoid doing imports until\n",
      "C:\\Users\\frank\\Anaconda3\\envs\\tensorflow-gpu\\lib\\site-packages\\ipykernel_launcher.py:5: SettingWithCopyWarning: \n",
      "A value is trying to be set on a copy of a slice from a DataFrame\n",
      "\n",
      "See the caveats in the documentation: http://pandas.pydata.org/pandas-docs/stable/indexing.html#indexing-view-versus-copy\n",
      "  \"\"\"\n",
      "C:\\Users\\frank\\Anaconda3\\envs\\tensorflow-gpu\\lib\\site-packages\\ipykernel_launcher.py:8: SettingWithCopyWarning: \n",
      "A value is trying to be set on a copy of a slice from a DataFrame\n",
      "\n",
      "See the caveats in the documentation: http://pandas.pydata.org/pandas-docs/stable/indexing.html#indexing-view-versus-copy\n",
      "  \n",
      "C:\\Users\\frank\\Anaconda3\\envs\\tensorflow-gpu\\lib\\site-packages\\ipykernel_launcher.py:9: SettingWithCopyWarning: \n",
      "A value is trying to be set on a copy of a slice from a DataFrame\n",
      "\n",
      "See the caveats in the documentation: http://pandas.pydata.org/pandas-docs/stable/indexing.html#indexing-view-versus-copy\n",
      "  if __name__ == '__main__':\n",
      "C:\\Users\\frank\\Anaconda3\\envs\\tensorflow-gpu\\lib\\site-packages\\ipykernel_launcher.py:10: SettingWithCopyWarning: \n",
      "A value is trying to be set on a copy of a slice from a DataFrame\n",
      "\n",
      "See the caveats in the documentation: http://pandas.pydata.org/pandas-docs/stable/indexing.html#indexing-view-versus-copy\n",
      "  # Remove the CWD from sys.path while we load stuff.\n"
     ]
    }
   ],
   "source": [
    "# Imputing 2nd Class 'Mrs\n",
    "test['Young_f'][(test['Sex']=='female')&(test['Age'].isnull())&(test['Pclass']==3)&(test['Title']=='Mrs')] = 1\n",
    "test['Young'][(test['Sex']=='female')&(test['Age'].isnull())&(test['Pclass']==3)&(test['Title']=='Mrs')] = 1\n",
    "# Fill in the mean values\n",
    "test['Age'][(test['Sex']=='female')&(test['Age'].isnull())&(test['Pclass']==3)&(test['Title']=='Mrs')] = mrs_avg_3\n",
    "\n",
    "# Imputing 3rd Class 'Miss'\n",
    "test['Young_f'][(test['Sex']=='female')&(test['Age'].isnull())&(test['Pclass']==3)&(test['Title']=='Miss')] = 0\n",
    "test['Child'][(test['Sex']=='female')&(test['Age'].isnull())&(test['Pclass']==3)&(test['Title']=='Miss')] = 1\n",
    "test['Age'][(test['Sex']=='female')&(test['Age'].isnull())&(test['Pclass']==3)&(test['Title']=='Miss')] = miss_avg_3\n"
   ]
  },
  {
   "cell_type": "code",
   "execution_count": 513,
   "metadata": {
    "collapsed": false
   },
   "outputs": [
    {
     "data": {
      "text/plain": [
       "<matplotlib.legend.Legend at 0x26bf3a383c8>"
      ]
     },
     "execution_count": 513,
     "metadata": {},
     "output_type": "execute_result"
    },
    {
     "data": {
      "image/png": "[encoded data removed]",
      "text/plain": [
       "<matplotlib.figure.Figure at 0x26bf3a38278>"
      ]
     },
     "metadata": {},
     "output_type": "display_data"
    }
   ],
   "source": [
    "train['Age'][train['Pclass']==1].hist(alpha=0.7)\n",
    "train['Age'][train['Pclass']==2].hist(alpha=0.7)\n",
    "train['Age'][train['Pclass']==3].hist(alpha=0.7)\n",
    "plt.legend(['first', 'second', 'third'])"
   ]
  },
  {
   "cell_type": "code",
   "execution_count": 514,
   "metadata": {
    "collapsed": false
   },
   "outputs": [
    {
     "data": {
      "text/plain": [
       "<matplotlib.legend.Legend at 0x26bf22bc630>"
      ]
     },
     "execution_count": 514,
     "metadata": {},
     "output_type": "execute_result"
    },
    {
     "data": {
      "image/png": "[encoded data removed]",
      "text/plain": [
       "<matplotlib.figure.Figure at 0x26bf4ddb940>"
      ]
     },
     "metadata": {},
     "output_type": "display_data"
    }
   ],
   "source": [
    "train['Age'][(train['Young_f']==1)&(train['Pclass']==1)].hist(alpha=0.7)\n",
    "train['Age'][(train['Young_f']==1)&(train['Pclass']==2)].hist(alpha=0.7)\n",
    "train['Age'][(train['Young_f']==1)&(train['Pclass']==3)].hist(alpha=0.7)\n",
    "plt.legend(['first', 'second', 'third'])"
   ]
  },
  {
   "cell_type": "code",
   "execution_count": 515,
   "metadata": {
    "collapsed": false
   },
   "outputs": [
    {
     "data": {
      "text/plain": [
       "<matplotlib.legend.Legend at 0x26bf3879240>"
      ]
     },
     "execution_count": 515,
     "metadata": {},
     "output_type": "execute_result"
    },
    {
     "data": {
      "image/png": "[encoded data removed]",
      "text/plain": [
       "<matplotlib.figure.Figure at 0x26bf682ed30>"
      ]
     },
     "metadata": {},
     "output_type": "display_data"
    }
   ],
   "source": [
    "train['Age'][(train['Young_f']==0)&(train['Pclass']==1)].hist(alpha=0.7)\n",
    "train['Age'][(train['Young_f']==0)&(train['Pclass']==2)].hist(alpha=0.7)\n",
    "train['Age'][(train['Young_f']==0)&(train['Pclass']==3)].hist(alpha=0.7)\n",
    "plt.legend(['first', 'second', 'third'])"
   ]
  },
  {
   "cell_type": "code",
   "execution_count": 516,
   "metadata": {
    "collapsed": false
   },
   "outputs": [
    {
     "data": {
      "text/plain": [
       "<matplotlib.axes._subplots.AxesSubplot at 0x26bf37b0518>"
      ]
     },
     "execution_count": 516,
     "metadata": {},
     "output_type": "execute_result"
    },
    {
     "data": {
      "image/png": "[encoded data removed]",
      "text/plain": [
       "<matplotlib.figure.Figure at 0x26bf5036cf8>"
      ]
     },
     "metadata": {},
     "output_type": "display_data"
    }
   ],
   "source": [
    "tab = pd.crosstab(train['Young_f'], train['Pclass'])\n",
    "tab.div(tab.sum(1).astype('float'), axis=0).plot(kind='bar', stacked=True)"
   ]
  },
  {
   "cell_type": "code",
   "execution_count": 517,
   "metadata": {
    "collapsed": false
   },
   "outputs": [
    {
     "data": {
      "text/plain": [
       "<matplotlib.axes._subplots.AxesSubplot at 0x26bf50c54a8>"
      ]
     },
     "execution_count": 517,
     "metadata": {},
     "output_type": "execute_result"
    },
    {
     "data": {
      "image/png": "[encoded data removed]",
      "text/plain": [
       "<matplotlib.figure.Figure at 0x26bf39b55f8>"
      ]
     },
     "metadata": {},
     "output_type": "display_data"
    }
   ],
   "source": [
    "tab = pd.crosstab(train['Young_m'], train['Pclass'])\n",
    "tab.div(tab.sum(1).astype('float'), axis=0).plot(kind='bar', stacked=True)"
   ]
  },
  {
   "cell_type": "markdown",
   "metadata": {
    "collapsed": true
   },
   "source": [
    "### Fare\n",
    "\n",
    "Let's model the Fare as an ordinal integer variable based on the logarithmic fare values:"
   ]
  },
  {
   "cell_type": "code",
   "execution_count": 518,
   "metadata": {
    "collapsed": false
   },
   "outputs": [
    {
     "data": {
      "image/png": "[encoded data removed]",
      "text/plain": [
       "<matplotlib.figure.Figure at 0x26bf664d160>"
      ]
     },
     "metadata": {},
     "output_type": "display_data"
    }
   ],
   "source": [
    "plt.hist(np.log(surv['Fare'].values+1), color='orange', normed=True, bins=25);\n",
    "plt.hist(np.log(nosurv['Fare'].values+1), color='blue', histtype='step', normed=True, bins=25);"
   ]
  },
  {
   "cell_type": "code",
   "execution_count": 519,
   "metadata": {
    "collapsed": false
   },
   "outputs": [
    {
     "data": {
      "text/html": [
       "<div>\n",
       "<style>\n",
       "    .dataframe thead tr:only-child th {\n",
       "        text-align: right;\n",
       "    }\n",
       "\n",
       "    .dataframe thead th {\n",
       "        text-align: left;\n",
       "    }\n",
       "\n",
       "    .dataframe tbody tr th {\n",
       "        vertical-align: top;\n",
       "    }\n",
       "</style>\n",
       "<table border=\"1\" class=\"dataframe\">\n",
       "  <thead>\n",
       "    <tr style=\"text-align: right;\">\n",
       "      <th></th>\n",
       "      <th>Fare</th>\n",
       "    </tr>\n",
       "    <tr>\n",
       "      <th>PassengerId</th>\n",
       "      <th></th>\n",
       "    </tr>\n",
       "  </thead>\n",
       "  <tbody>\n",
       "    <tr>\n",
       "      <th>1</th>\n",
       "      <td>0</td>\n",
       "    </tr>\n",
       "    <tr>\n",
       "      <th>2</th>\n",
       "      <td>1</td>\n",
       "    </tr>\n",
       "    <tr>\n",
       "      <th>3</th>\n",
       "      <td>0</td>\n",
       "    </tr>\n",
       "  </tbody>\n",
       "</table>\n",
       "</div>"
      ],
      "text/plain": [
       "             Fare\n",
       "PassengerId      \n",
       "1               0\n",
       "2               1\n",
       "3               0"
      ]
     },
     "execution_count": 519,
     "metadata": {},
     "output_type": "execute_result"
    }
   ],
   "source": [
    "pd.DataFrame(np.floor(np.log10(train['Fare']+1))).astype('int')[:3]"
   ]
  },
  {
   "cell_type": "code",
   "execution_count": 520,
   "metadata": {
    "collapsed": false
   },
   "outputs": [
    {
     "name": "stdout",
     "output_type": "stream",
     "text": [
      "Survived    0    1\n",
      "Fare_cat          \n",
      "0         249   62\n",
      "1         286  241\n",
      "2          14   39\n"
     ]
    },
    {
     "data": {
      "image/png": "[encoded data removed]",
      "text/plain": [
       "<matplotlib.figure.Figure at 0x26bf658ce48>"
      ]
     },
     "metadata": {},
     "output_type": "display_data"
    }
   ],
   "source": [
    "train['Fare_cat'] = pd.DataFrame(np.floor(np.log10(train['Fare'] + 1))).astype('int')\n",
    "test['Fare_cat'] = pd.DataFrame(np.floor(np.log10(test['Fare'] + 1))).astype('int')\n",
    "\n",
    "stacked_plot('Fare_cat', 'Survived')\n",
    "plt.xlabel('Fare Category');\n",
    "plt.ylabel('Percentage');\n",
    "plt.title('Survival per Fare Category');\n"
   ]
  },
  {
   "cell_type": "markdown",
   "metadata": {},
   "source": [
    "## 4. Preparing Data for Machine Learning usage\n",
    "\n",
    "We have to adjust the column types to integers, as most machine learning systems can not handle string input."
   ]
  },
  {
   "cell_type": "code",
   "execution_count": 521,
   "metadata": {
    "collapsed": true
   },
   "outputs": [],
   "source": [
    "train['Sex'] = train['Sex'].astype('category')\n",
    "train['Sex'].cat.categories = [0,1]\n",
    "train['Sex'] = train['Sex'].astype('int')\n",
    "train['Ticket'] = train['Ticket'].astype('category')\n",
    "train['Cabin'] = train['Cabin'].astype('category')\n",
    "train['Embarked'] = train['Embarked'].astype('category')\n",
    "train['Embarked'].cat.categories = [0,1,2]\n",
    "train['Embarked'] = train['Embarked'].astype('int')\n",
    "train['Deck'] = train['Deck'].astype('category')\n",
    "train['Deck'].cat.categories = [0,1,2,3,4,5,6,7,8]\n",
    "train['Deck'] = train['Deck'].astype('int')\n",
    "train['Bad_ticket'] = train['Bad_ticket'].astype('int')"
   ]
  },
  {
   "cell_type": "code",
   "execution_count": 522,
   "metadata": {
    "collapsed": true
   },
   "outputs": [],
   "source": [
    "test['Sex'] = test['Sex'].astype('category')\n",
    "test['Sex'].cat.categories = [0,1]\n",
    "test['Sex'] = test['Sex'].astype('int')\n",
    "test['Ticket'] = test['Ticket'].astype('category')\n",
    "test['Cabin'] = test['Cabin'].astype('category')\n",
    "test['Embarked'] = test['Embarked'].astype('category')\n",
    "test['Embarked'].cat.categories = [0,1,2]\n",
    "test['Embarked'] = test['Embarked'].astype('int')\n",
    "test['Deck'] = test['Deck'].astype('category')\n",
    "test['Deck'].cat.categories = [0,1,2,3,4,5,6,7]\n",
    "test['Deck'] = test['Deck'].astype('int')\n",
    "test['Bad_ticket'] = test['Bad_ticket'].astype('int')"
   ]
  },
  {
   "cell_type": "code",
   "execution_count": 523,
   "metadata": {
    "collapsed": false
   },
   "outputs": [
    {
     "data": {
      "text/plain": [
       "Survived          int64\n",
       "Pclass            int64\n",
       "Name             object\n",
       "Sex               int32\n",
       "Age             float64\n",
       "SibSp             int64\n",
       "Parch             int64\n",
       "Ticket         category\n",
       "Fare            float64\n",
       "Cabin          category\n",
       "Embarked          int32\n",
       "Child             int32\n",
       "Young             int32\n",
       "Young_m           int32\n",
       "Young_f           int32\n",
       "Cabin_known       int32\n",
       "Age_known         int32\n",
       "Family            int32\n",
       "Alone             int32\n",
       "LargeFamily       int32\n",
       "Deck              int32\n",
       "Ttype            object\n",
       "Title            object\n",
       "Bad_ticket        int32\n",
       "Fare_cat          int32\n",
       "dtype: object"
      ]
     },
     "execution_count": 523,
     "metadata": {},
     "output_type": "execute_result"
    }
   ],
   "source": [
    "train.dtypes"
   ]
  },
  {
   "cell_type": "code",
   "execution_count": 529,
   "metadata": {
    "collapsed": true
   },
   "outputs": [],
   "source": [
    "# Drop unnecessary Features we used for Calculating secondary Features\n",
    "train_final = train.drop(['Name','Ticket','Ttype', 'Title', 'Cabin'],axis=1)\n",
    "test_final = test.drop(['Name', 'Ticket', 'Ttype', 'Title', 'Cabin'], axis=1)"
   ]
  },
  {
   "cell_type": "code",
   "execution_count": 532,
   "metadata": {
    "collapsed": false
   },
   "outputs": [
    {
     "data": {
      "text/plain": [
       "True"
      ]
     },
     "execution_count": 532,
     "metadata": {},
     "output_type": "execute_result"
    }
   ],
   "source": [
    "# Test if all data is identical in label and datatype\n",
    "all(train_final.drop('Survived', axis=1).dtypes == test_final.dtypes)"
   ]
  },
  {
   "cell_type": "code",
   "execution_count": 533,
   "metadata": {
    "collapsed": true
   },
   "outputs": [],
   "source": [
    "# Export Dataset\n",
    "train_final.to_csv('data/train_clean.csv')\n",
    "test_final.to_csv('data/test_clean.csv')"
   ]
  },
  {
   "cell_type": "code",
   "execution_count": null,
   "metadata": {
    "collapsed": true
   },
   "outputs": [],
   "source": []
  }
 ],
 "metadata": {
  "kernelspec": {
   "display_name": "Python 3",
   "language": "python",
   "name": "python3"
  },
  "language_info": {
   "codemirror_mode": {
    "name": "ipython",
    "version": 3
   },
   "file_extension": ".py",
   "mimetype": "text/x-python",
   "name": "python",
   "nbconvert_exporter": "python",
   "pygments_lexer": "ipython3",
   "version": "3.6.0"
  }
 },
 "nbformat": 4,
 "nbformat_minor": 2
}
